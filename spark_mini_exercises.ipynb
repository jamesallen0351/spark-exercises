{
 "cells": [
  {
   "cell_type": "markdown",
   "id": "5a51db0b",
   "metadata": {},
   "source": [
    "# Spark Mini Exercises"
   ]
  },
  {
   "cell_type": "code",
   "execution_count": 1,
   "id": "859c89fc",
   "metadata": {},
   "outputs": [],
   "source": [
    "# imports\n",
    "import pandas as pd\n",
    "import numpy as np\n",
    "\n",
    "import pyspark\n",
    "import pyspark.sql.functions as F\n",
    "\n",
    "import multiprocessing"
   ]
  },
  {
   "cell_type": "code",
   "execution_count": 2,
   "id": "10e0fd63",
   "metadata": {
    "scrolled": true
   },
   "outputs": [],
   "source": [
    "#spark = pyspark.sql.SparkSession.builder.getOrCreate()\n",
    "#spark.range(5).show()"
   ]
  },
  {
   "cell_type": "code",
   "execution_count": 3,
   "id": "9f86e682",
   "metadata": {},
   "outputs": [],
   "source": [
    "nprocs = multiprocessing.cpu_count()\n",
    "\n",
    "spark = (pyspark.sql.SparkSession.builder\n",
    " .master('local')\n",
    " .config('spark.jars.packages', 'mysql:mysql-connector-java:8.0.16')\n",
    " .config('spark.driver.memory', '4G')\n",
    " .config('spark.driver.cores', nprocs)\n",
    " .config('spark.sql.shuffle.partitions', nprocs)\n",
    " .appName('MySparkApplication')\n",
    " .getOrCreate())"
   ]
  },
  {
   "cell_type": "code",
   "execution_count": 4,
   "id": "c5f52a03",
   "metadata": {},
   "outputs": [],
   "source": [
    "# Use the starter code above to create a pandas dataframe.\n",
    "np.random.seed(13)\n",
    "\n",
    "pandas_dataframe = pd.DataFrame({\n",
    "    \"n\": np.random.randn(20),\n",
    "    \"group\": np.random.choice(list(\"xyz\"), 20),\n",
    "    \"abool\": np.random.choice([True, False], 20),\n",
    "})"
   ]
  },
  {
   "cell_type": "markdown",
   "id": "109ca289",
   "metadata": {},
   "source": [
    "# 1. Spark Dataframe Basics"
   ]
  },
  {
   "cell_type": "code",
   "execution_count": 5,
   "id": "e70ab0ca",
   "metadata": {},
   "outputs": [],
   "source": [
    "# Convert the pandas dataframe to a spark dataframe.\n",
    "df = spark.createDataFrame(pandas_dataframe)"
   ]
  },
  {
   "cell_type": "code",
   "execution_count": 6,
   "id": "abf68c2b",
   "metadata": {},
   "outputs": [
    {
     "name": "stdout",
     "output_type": "stream",
     "text": [
      "+--------------------+-----+-----+\n",
      "|                   n|group|abool|\n",
      "+--------------------+-----+-----+\n",
      "|  -0.712390662050588|    z|false|\n",
      "|   0.753766378659703|    x|false|\n",
      "|-0.04450307833805...|    z|false|\n",
      "+--------------------+-----+-----+\n",
      "only showing top 3 rows\n",
      "\n"
     ]
    }
   ],
   "source": [
    "# Show the first 3 rows of the dataframe\n",
    "df.show(3)"
   ]
  },
  {
   "cell_type": "code",
   "execution_count": 7,
   "id": "6db886b0",
   "metadata": {},
   "outputs": [
    {
     "name": "stdout",
     "output_type": "stream",
     "text": [
      "+--------------------+-----+-----+\n",
      "|                   n|group|abool|\n",
      "+--------------------+-----+-----+\n",
      "|  -0.712390662050588|    z|false|\n",
      "|   0.753766378659703|    x|false|\n",
      "|-0.04450307833805...|    z|false|\n",
      "| 0.45181233874578974|    y|false|\n",
      "|  1.3451017084510097|    z|false|\n",
      "|  0.5323378882945463|    y|false|\n",
      "|  1.3501878997225267|    z|false|\n",
      "+--------------------+-----+-----+\n",
      "only showing top 7 rows\n",
      "\n"
     ]
    }
   ],
   "source": [
    "# Show the first 7 rows of the dataframe\n",
    "df.show(7)"
   ]
  },
  {
   "cell_type": "code",
   "execution_count": 8,
   "id": "59cbabec",
   "metadata": {},
   "outputs": [
    {
     "name": "stdout",
     "output_type": "stream",
     "text": [
      "+-------+-------------------+-----+\n",
      "|summary|                  n|group|\n",
      "+-------+-------------------+-----+\n",
      "|  count|                 20|   20|\n",
      "|   mean|0.36640264498852165| null|\n",
      "| stddev| 0.8905322898155364| null|\n",
      "|    min| -1.261605945319069|    x|\n",
      "|    max| 2.1503829673811126|    z|\n",
      "+-------+-------------------+-----+\n",
      "\n"
     ]
    }
   ],
   "source": [
    "# View a summary of the data using `.describe`\n",
    "df.describe().show()"
   ]
  },
  {
   "cell_type": "code",
   "execution_count": 9,
   "id": "9d755d90",
   "metadata": {},
   "outputs": [
    {
     "name": "stdout",
     "output_type": "stream",
     "text": [
      "+--------------------+-----+\n",
      "|                   n|abool|\n",
      "+--------------------+-----+\n",
      "|  -0.712390662050588|false|\n",
      "|   0.753766378659703|false|\n",
      "|-0.04450307833805...|false|\n",
      "| 0.45181233874578974|false|\n",
      "|  1.3451017084510097|false|\n",
      "+--------------------+-----+\n",
      "only showing top 5 rows\n",
      "\n"
     ]
    }
   ],
   "source": [
    "# Use `.select` to create a new dataframe with just the `n` and `abool` columns. \n",
    "# View the first 5 rows of this dataframe.\n",
    "df.select('n', 'abool').show(5)"
   ]
  },
  {
   "cell_type": "code",
   "execution_count": 10,
   "id": "b35562e3",
   "metadata": {},
   "outputs": [
    {
     "name": "stdout",
     "output_type": "stream",
     "text": [
      "+-----+-----+\n",
      "|group|abool|\n",
      "+-----+-----+\n",
      "|    z|false|\n",
      "|    x|false|\n",
      "|    z|false|\n",
      "|    y|false|\n",
      "|    z|false|\n",
      "+-----+-----+\n",
      "only showing top 5 rows\n",
      "\n"
     ]
    }
   ],
   "source": [
    "# Use `.select` to create a new dataframe with just the `group` and `abool` columns\n",
    "# View the first 5 rows of this dataframe.\n",
    "df.select('group', 'abool').show(5)"
   ]
  },
  {
   "cell_type": "code",
   "execution_count": 11,
   "id": "13295bdf",
   "metadata": {},
   "outputs": [
    {
     "name": "stdout",
     "output_type": "stream",
     "text": [
      "+-----+---------------+\n",
      "|group|a_boolean_value|\n",
      "+-----+---------------+\n",
      "|    z|          false|\n",
      "|    x|          false|\n",
      "|    z|          false|\n",
      "+-----+---------------+\n",
      "only showing top 3 rows\n",
      "\n"
     ]
    }
   ],
   "source": [
    "# Use `.select` to create a new dataframe with the `group` column and the `abool` column renamed to `a_boolean_value`\n",
    "# Show the first 3 rows of this dataframe.\n",
    "df.select('group', df.abool.alias('a_boolean_value')).show(3)"
   ]
  },
  {
   "cell_type": "code",
   "execution_count": 12,
   "id": "04950344",
   "metadata": {},
   "outputs": [
    {
     "name": "stdout",
     "output_type": "stream",
     "text": [
      "+-----+--------------------+\n",
      "|group|     a_numeric_value|\n",
      "+-----+--------------------+\n",
      "|    z|  -0.712390662050588|\n",
      "|    x|   0.753766378659703|\n",
      "|    z|-0.04450307833805...|\n",
      "|    y| 0.45181233874578974|\n",
      "|    z|  1.3451017084510097|\n",
      "|    y|  0.5323378882945463|\n",
      "+-----+--------------------+\n",
      "only showing top 6 rows\n",
      "\n"
     ]
    }
   ],
   "source": [
    "# Use `.select` to create a new dataframe with the `group` column and the `n` column renamed to `a_numeric_value`\n",
    "# Show the first 6 rows of this dataframe\n",
    "\n",
    "from pyspark.sql.functions import col\n",
    "\n",
    "df.select('group', col('n').alias('a_numeric_value')).show(6)"
   ]
  },
  {
   "cell_type": "markdown",
   "id": "d86ead49",
   "metadata": {},
   "source": [
    "# 2. Column Manipulation"
   ]
  },
  {
   "cell_type": "code",
   "execution_count": 13,
   "id": "fb544c35",
   "metadata": {
    "scrolled": true
   },
   "outputs": [
    {
     "name": "stdout",
     "output_type": "stream",
     "text": [
      "+--------------------+------------------+\n",
      "|                   n|           (n + 4)|\n",
      "+--------------------+------------------+\n",
      "|  -0.712390662050588|3.2876093379494122|\n",
      "|   0.753766378659703| 4.753766378659703|\n",
      "|-0.04450307833805...|3.9554969216619464|\n",
      "| 0.45181233874578974|  4.45181233874579|\n",
      "|  1.3451017084510097|5.3451017084510095|\n",
      "|  0.5323378882945463| 4.532337888294546|\n",
      "|  1.3501878997225267| 5.350187899722527|\n",
      "|  0.8612113741693206|  4.86121137416932|\n",
      "|  1.4786857374358966| 5.478685737435897|\n",
      "| -1.0453771305385342| 2.954622869461466|\n",
      "| -0.7889890249515489|3.2110109750484512|\n",
      "|  -1.261605945319069| 2.738394054680931|\n",
      "|  0.5628467852810314| 4.562846785281032|\n",
      "|-0.24332625188556253|3.7566737481144377|\n",
      "|  0.9137407048596775| 4.913740704859677|\n",
      "| 0.31735092273633597| 4.317350922736336|\n",
      "| 0.12730328020698067| 4.127303280206981|\n",
      "|  2.1503829673811126| 6.150382967381113|\n",
      "|  0.6062886568962988| 4.606288656896298|\n",
      "|-0.02677164998644...|3.9732283500135592|\n",
      "+--------------------+------------------+\n",
      "\n"
     ]
    }
   ],
   "source": [
    "# Use the starter code above to re-create a spark dataframe. Store the spark dataframe in a varaible named `df`\n",
    "# Use `.select` to add 4 to the `n` column. Show the results.\n",
    "df.select('n', df.n + 4).show()"
   ]
  },
  {
   "cell_type": "code",
   "execution_count": 14,
   "id": "76649967",
   "metadata": {},
   "outputs": [
    {
     "name": "stdout",
     "output_type": "stream",
     "text": [
      "+--------------------+-------------------+\n",
      "|                   n|            (n - 5)|\n",
      "+--------------------+-------------------+\n",
      "|  -0.712390662050588| -5.712390662050588|\n",
      "|   0.753766378659703| -4.246233621340297|\n",
      "|-0.04450307833805...| -5.044503078338053|\n",
      "| 0.45181233874578974|  -4.54818766125421|\n",
      "|  1.3451017084510097|-3.6548982915489905|\n",
      "|  0.5323378882945463| -4.467662111705454|\n",
      "|  1.3501878997225267|-3.6498121002774733|\n",
      "|  0.8612113741693206|  -4.13878862583068|\n",
      "|  1.4786857374358966| -3.521314262564103|\n",
      "| -1.0453771305385342| -6.045377130538534|\n",
      "| -0.7889890249515489| -5.788989024951549|\n",
      "|  -1.261605945319069| -6.261605945319069|\n",
      "|  0.5628467852810314| -4.437153214718968|\n",
      "|-0.24332625188556253| -5.243326251885563|\n",
      "|  0.9137407048596775| -4.086259295140323|\n",
      "| 0.31735092273633597| -4.682649077263664|\n",
      "| 0.12730328020698067| -4.872696719793019|\n",
      "|  2.1503829673811126|-2.8496170326188874|\n",
      "|  0.6062886568962988| -4.393711343103702|\n",
      "|-0.02677164998644...| -5.026771649986441|\n",
      "+--------------------+-------------------+\n",
      "\n"
     ]
    }
   ],
   "source": [
    "# Subtract 5 from the `n` column and view the results.\n",
    "df.select('n', df.n - 5).show()"
   ]
  },
  {
   "cell_type": "code",
   "execution_count": 15,
   "id": "650bd251",
   "metadata": {},
   "outputs": [
    {
     "name": "stdout",
     "output_type": "stream",
     "text": [
      "+--------------------+-------------------+\n",
      "|                   n|            (n - 5)|\n",
      "+--------------------+-------------------+\n",
      "|  -0.712390662050588| -5.712390662050588|\n",
      "|   0.753766378659703| -4.246233621340297|\n",
      "|-0.04450307833805...| -5.044503078338053|\n",
      "| 0.45181233874578974|  -4.54818766125421|\n",
      "|  1.3451017084510097|-3.6548982915489905|\n",
      "|  0.5323378882945463| -4.467662111705454|\n",
      "|  1.3501878997225267|-3.6498121002774733|\n",
      "|  0.8612113741693206|  -4.13878862583068|\n",
      "|  1.4786857374358966| -3.521314262564103|\n",
      "| -1.0453771305385342| -6.045377130538534|\n",
      "| -0.7889890249515489| -5.788989024951549|\n",
      "|  -1.261605945319069| -6.261605945319069|\n",
      "|  0.5628467852810314| -4.437153214718968|\n",
      "|-0.24332625188556253| -5.243326251885563|\n",
      "|  0.9137407048596775| -4.086259295140323|\n",
      "| 0.31735092273633597| -4.682649077263664|\n",
      "| 0.12730328020698067| -4.872696719793019|\n",
      "|  2.1503829673811126|-2.8496170326188874|\n",
      "|  0.6062886568962988| -4.393711343103702|\n",
      "|-0.02677164998644...| -5.026771649986441|\n",
      "+--------------------+-------------------+\n",
      "\n"
     ]
    }
   ],
   "source": [
    "# Multiply the `n` column by 2. View the results along with the original numbers.\n",
    "df.select('n', df.n - 5).show()"
   ]
  },
  {
   "cell_type": "code",
   "execution_count": 17,
   "id": "510f6a12",
   "metadata": {},
   "outputs": [
    {
     "name": "stdout",
     "output_type": "stream",
     "text": [
      "+--------------------+-----+-----+--------------------+\n",
      "|                   n|group|abool|                  n2|\n",
      "+--------------------+-----+-----+--------------------+\n",
      "|  -0.712390662050588|    z|false|   0.712390662050588|\n",
      "|   0.753766378659703|    x|false|  -0.753766378659703|\n",
      "|-0.04450307833805...|    z|false|0.044503078338053455|\n",
      "| 0.45181233874578974|    y|false|-0.45181233874578974|\n",
      "+--------------------+-----+-----+--------------------+\n",
      "only showing top 4 rows\n",
      "\n"
     ]
    }
   ],
   "source": [
    "# Add a new column named `n2` that is the `n` value multiplied by -1. Show the first 4 rows of your dataframe. \n",
    "# You should see the original `n` value as well as `n2`.\n",
    "df = df.select('*', (df.n * -1).alias('n2'))\n",
    "df.show(4)"
   ]
  },
  {
   "cell_type": "code",
   "execution_count": 18,
   "id": "4f3f6d70",
   "metadata": {},
   "outputs": [
    {
     "name": "stdout",
     "output_type": "stream",
     "text": [
      "+--------------------+-----+-----+--------------------+--------------------+\n",
      "|                   n|group|abool|                  n2|                  n3|\n",
      "+--------------------+-----+-----+--------------------+--------------------+\n",
      "|  -0.712390662050588|    z|false|   0.712390662050588|   0.507500455376875|\n",
      "|   0.753766378659703|    x|false|  -0.753766378659703|  0.5681637535977627|\n",
      "|-0.04450307833805...|    z|false|0.044503078338053455|0.001980523981562...|\n",
      "| 0.45181233874578974|    y|false|-0.45181233874578974| 0.20413438944294027|\n",
      "|  1.3451017084510097|    z|false| -1.3451017084510097|  1.8092986060778251|\n",
      "+--------------------+-----+-----+--------------------+--------------------+\n",
      "only showing top 5 rows\n",
      "\n"
     ]
    }
   ],
   "source": [
    "# Add a new column named `n3` that is the n value squared. Show the first 5 rows of your dataframe. \n",
    "# You should see both `n`, `n2`, and `n3`.\n",
    "df = df.select('*', (df.n * df.n).alias('n3'))\n",
    "df.show(5)"
   ]
  },
  {
   "cell_type": "code",
   "execution_count": 19,
   "id": "a489df7f",
   "metadata": {},
   "outputs": [
    {
     "data": {
      "text/plain": [
       "Column<'(group + abool)'>"
      ]
     },
     "execution_count": 19,
     "metadata": {},
     "output_type": "execute_result"
    }
   ],
   "source": [
    "# What happens when you run the code below?\n",
    "df.group + df.abool\n",
    "# A Column object is produced that represents the transformation of adding together the group and abool columns."
   ]
  },
  {
   "cell_type": "code",
   "execution_count": 21,
   "id": "f60567e5",
   "metadata": {},
   "outputs": [
    {
     "ename": "AnalysisException",
     "evalue": "cannot resolve '(CAST(group AS DOUBLE) + abool)' due to data type mismatch: differing types in '(CAST(group AS DOUBLE) + abool)' (double and boolean).;\n'Project [unresolvedalias((cast(group#1 as double) + abool#2), Some(org.apache.spark.sql.Column$$Lambda$3085/0x00000008012fb040@4a5c5eb3))]\n+- Project [n#0, group#1, abool#2, n2#253, (n#0 * n#0) AS n3#275]\n   +- Project [n#0, group#1, abool#2, (n#0 * cast(-1 as double)) AS n2#253]\n      +- LogicalRDD [n#0, group#1, abool#2], false\n",
     "output_type": "error",
     "traceback": [
      "\u001b[0;31m---------------------------------------------------------------------------\u001b[0m",
      "\u001b[0;31mAnalysisException\u001b[0m                         Traceback (most recent call last)",
      "\u001b[0;32m<ipython-input-21-df3226df8fa6>\u001b[0m in \u001b[0;36m<module>\u001b[0;34m\u001b[0m\n\u001b[1;32m      1\u001b[0m \u001b[0;31m# What happens when you run the code below?\u001b[0m\u001b[0;34m\u001b[0m\u001b[0;34m\u001b[0m\u001b[0;34m\u001b[0m\u001b[0m\n\u001b[1;32m      2\u001b[0m \u001b[0;31m# What is the difference between this and the previous code sample?\u001b[0m\u001b[0;34m\u001b[0m\u001b[0;34m\u001b[0m\u001b[0;34m\u001b[0m\u001b[0m\n\u001b[0;32m----> 3\u001b[0;31m \u001b[0mdf\u001b[0m\u001b[0;34m.\u001b[0m\u001b[0mselect\u001b[0m\u001b[0;34m(\u001b[0m\u001b[0mdf\u001b[0m\u001b[0;34m.\u001b[0m\u001b[0mgroup\u001b[0m \u001b[0;34m+\u001b[0m \u001b[0mdf\u001b[0m\u001b[0;34m.\u001b[0m\u001b[0mabool\u001b[0m\u001b[0;34m)\u001b[0m\u001b[0;34m\u001b[0m\u001b[0;34m\u001b[0m\u001b[0m\n\u001b[0m",
      "\u001b[0;32m/opt/homebrew/anaconda3/lib/python3.8/site-packages/pyspark/sql/dataframe.py\u001b[0m in \u001b[0;36mselect\u001b[0;34m(self, *cols)\u001b[0m\n\u001b[1;32m   1683\u001b[0m         \u001b[0;34m[\u001b[0m\u001b[0mRow\u001b[0m\u001b[0;34m(\u001b[0m\u001b[0mname\u001b[0m\u001b[0;34m=\u001b[0m\u001b[0;34m'Alice'\u001b[0m\u001b[0;34m,\u001b[0m \u001b[0mage\u001b[0m\u001b[0;34m=\u001b[0m\u001b[0;36m12\u001b[0m\u001b[0;34m)\u001b[0m\u001b[0;34m,\u001b[0m \u001b[0mRow\u001b[0m\u001b[0;34m(\u001b[0m\u001b[0mname\u001b[0m\u001b[0;34m=\u001b[0m\u001b[0;34m'Bob'\u001b[0m\u001b[0;34m,\u001b[0m \u001b[0mage\u001b[0m\u001b[0;34m=\u001b[0m\u001b[0;36m15\u001b[0m\u001b[0;34m)\u001b[0m\u001b[0;34m]\u001b[0m\u001b[0;34m\u001b[0m\u001b[0;34m\u001b[0m\u001b[0m\n\u001b[1;32m   1684\u001b[0m         \"\"\"\n\u001b[0;32m-> 1685\u001b[0;31m         \u001b[0mjdf\u001b[0m \u001b[0;34m=\u001b[0m \u001b[0mself\u001b[0m\u001b[0;34m.\u001b[0m\u001b[0m_jdf\u001b[0m\u001b[0;34m.\u001b[0m\u001b[0mselect\u001b[0m\u001b[0;34m(\u001b[0m\u001b[0mself\u001b[0m\u001b[0;34m.\u001b[0m\u001b[0m_jcols\u001b[0m\u001b[0;34m(\u001b[0m\u001b[0;34m*\u001b[0m\u001b[0mcols\u001b[0m\u001b[0;34m)\u001b[0m\u001b[0;34m)\u001b[0m\u001b[0;34m\u001b[0m\u001b[0;34m\u001b[0m\u001b[0m\n\u001b[0m\u001b[1;32m   1686\u001b[0m         \u001b[0;32mreturn\u001b[0m \u001b[0mDataFrame\u001b[0m\u001b[0;34m(\u001b[0m\u001b[0mjdf\u001b[0m\u001b[0;34m,\u001b[0m \u001b[0mself\u001b[0m\u001b[0;34m.\u001b[0m\u001b[0msql_ctx\u001b[0m\u001b[0;34m)\u001b[0m\u001b[0;34m\u001b[0m\u001b[0;34m\u001b[0m\u001b[0m\n\u001b[1;32m   1687\u001b[0m \u001b[0;34m\u001b[0m\u001b[0m\n",
      "\u001b[0;32m/opt/homebrew/anaconda3/lib/python3.8/site-packages/py4j/java_gateway.py\u001b[0m in \u001b[0;36m__call__\u001b[0;34m(self, *args)\u001b[0m\n\u001b[1;32m   1307\u001b[0m \u001b[0;34m\u001b[0m\u001b[0m\n\u001b[1;32m   1308\u001b[0m         \u001b[0manswer\u001b[0m \u001b[0;34m=\u001b[0m \u001b[0mself\u001b[0m\u001b[0;34m.\u001b[0m\u001b[0mgateway_client\u001b[0m\u001b[0;34m.\u001b[0m\u001b[0msend_command\u001b[0m\u001b[0;34m(\u001b[0m\u001b[0mcommand\u001b[0m\u001b[0;34m)\u001b[0m\u001b[0;34m\u001b[0m\u001b[0;34m\u001b[0m\u001b[0m\n\u001b[0;32m-> 1309\u001b[0;31m         return_value = get_return_value(\n\u001b[0m\u001b[1;32m   1310\u001b[0m             answer, self.gateway_client, self.target_id, self.name)\n\u001b[1;32m   1311\u001b[0m \u001b[0;34m\u001b[0m\u001b[0m\n",
      "\u001b[0;32m/opt/homebrew/anaconda3/lib/python3.8/site-packages/pyspark/sql/utils.py\u001b[0m in \u001b[0;36mdeco\u001b[0;34m(*a, **kw)\u001b[0m\n\u001b[1;32m    115\u001b[0m                 \u001b[0;31m# Hide where the exception came from that shows a non-Pythonic\u001b[0m\u001b[0;34m\u001b[0m\u001b[0;34m\u001b[0m\u001b[0;34m\u001b[0m\u001b[0m\n\u001b[1;32m    116\u001b[0m                 \u001b[0;31m# JVM exception message.\u001b[0m\u001b[0;34m\u001b[0m\u001b[0;34m\u001b[0m\u001b[0;34m\u001b[0m\u001b[0m\n\u001b[0;32m--> 117\u001b[0;31m                 \u001b[0;32mraise\u001b[0m \u001b[0mconverted\u001b[0m \u001b[0;32mfrom\u001b[0m \u001b[0;32mNone\u001b[0m\u001b[0;34m\u001b[0m\u001b[0;34m\u001b[0m\u001b[0m\n\u001b[0m\u001b[1;32m    118\u001b[0m             \u001b[0;32melse\u001b[0m\u001b[0;34m:\u001b[0m\u001b[0;34m\u001b[0m\u001b[0;34m\u001b[0m\u001b[0m\n\u001b[1;32m    119\u001b[0m                 \u001b[0;32mraise\u001b[0m\u001b[0;34m\u001b[0m\u001b[0;34m\u001b[0m\u001b[0m\n",
      "\u001b[0;31mAnalysisException\u001b[0m: cannot resolve '(CAST(group AS DOUBLE) + abool)' due to data type mismatch: differing types in '(CAST(group AS DOUBLE) + abool)' (double and boolean).;\n'Project [unresolvedalias((cast(group#1 as double) + abool#2), Some(org.apache.spark.sql.Column$$Lambda$3085/0x00000008012fb040@4a5c5eb3))]\n+- Project [n#0, group#1, abool#2, n2#253, (n#0 * n#0) AS n3#275]\n   +- Project [n#0, group#1, abool#2, (n#0 * cast(-1 as double)) AS n2#253]\n      +- LogicalRDD [n#0, group#1, abool#2], false\n"
     ]
    }
   ],
   "source": [
    "# What happens when you run the code below?  \n",
    "# What is the difference between this and the previous code sample?\n",
    "df.select(df.group + df.abool)\n",
    "\n",
    "# An error is produced referencing the incompatible types. \n",
    "# Unlike the previous code sample, this one is done within the context of a .select, \n",
    "# so even though there are still no values produced (we haven't invoked an action yet), \n",
    "# spark is aware that the types are incompatible."
   ]
  },
  {
   "cell_type": "markdown",
   "id": "c87e1449",
   "metadata": {},
   "source": [
    "# 3. Type casting"
   ]
  },
  {
   "cell_type": "code",
   "execution_count": 22,
   "id": "5250fe5e",
   "metadata": {},
   "outputs": [
    {
     "name": "stdout",
     "output_type": "stream",
     "text": [
      "root\n",
      " |-- n: double (nullable = true)\n",
      " |-- group: string (nullable = true)\n",
      " |-- abool: boolean (nullable = true)\n",
      " |-- n2: double (nullable = true)\n",
      " |-- n3: double (nullable = true)\n",
      "\n"
     ]
    }
   ],
   "source": [
    "# Use .printSchema to view the datatypes in your dataframe.\n",
    "df.printSchema()"
   ]
  },
  {
   "cell_type": "code",
   "execution_count": 24,
   "id": "2c04c00e",
   "metadata": {},
   "outputs": [
    {
     "data": {
      "text/plain": [
       "[('n', 'double'),\n",
       " ('group', 'string'),\n",
       " ('abool', 'boolean'),\n",
       " ('n2', 'double'),\n",
       " ('n3', 'double')]"
      ]
     },
     "execution_count": 24,
     "metadata": {},
     "output_type": "execute_result"
    }
   ],
   "source": [
    "# Use `.dtypes` to view the datatypes in your dataframe.\n",
    "df.dtypes"
   ]
  },
  {
   "cell_type": "code",
   "execution_count": 25,
   "id": "11dd305e",
   "metadata": {},
   "outputs": [
    {
     "data": {
      "text/plain": [
       "Column<'CAST(abool AS INT)'>"
      ]
     },
     "execution_count": 25,
     "metadata": {},
     "output_type": "execute_result"
    }
   ],
   "source": [
    "# What is the difference between the two code samples below?\n",
    "# One is a creating a Column and one is using that same column in a .select in order to view the results of the cast.\n",
    "df.abool.cast('int')"
   ]
  },
  {
   "cell_type": "code",
   "execution_count": 26,
   "id": "4ca38a2d",
   "metadata": {},
   "outputs": [
    {
     "name": "stdout",
     "output_type": "stream",
     "text": [
      "+-----+\n",
      "|abool|\n",
      "+-----+\n",
      "|    0|\n",
      "|    0|\n",
      "|    0|\n",
      "|    0|\n",
      "|    0|\n",
      "|    0|\n",
      "|    0|\n",
      "|    0|\n",
      "|    1|\n",
      "|    1|\n",
      "|    0|\n",
      "|    0|\n",
      "|    1|\n",
      "|    1|\n",
      "|    0|\n",
      "|    0|\n",
      "|    0|\n",
      "|    1|\n",
      "|    0|\n",
      "|    1|\n",
      "+-----+\n",
      "\n"
     ]
    }
   ],
   "source": [
    "df.select(df.abool.cast('int')).show()"
   ]
  },
  {
   "cell_type": "code",
   "execution_count": 27,
   "id": "3bf55199",
   "metadata": {},
   "outputs": [
    {
     "name": "stdout",
     "output_type": "stream",
     "text": [
      "+-----+-----+\n",
      "|abool|abool|\n",
      "+-----+-----+\n",
      "|false|    0|\n",
      "|false|    0|\n",
      "|false|    0|\n",
      "|false|    0|\n",
      "|false|    0|\n",
      "|false|    0|\n",
      "|false|    0|\n",
      "|false|    0|\n",
      "| true|    1|\n",
      "| true|    1|\n",
      "|false|    0|\n",
      "|false|    0|\n",
      "| true|    1|\n",
      "| true|    1|\n",
      "|false|    0|\n",
      "|false|    0|\n",
      "|false|    0|\n",
      "| true|    1|\n",
      "|false|    0|\n",
      "| true|    1|\n",
      "+-----+-----+\n",
      "\n"
     ]
    }
   ],
   "source": [
    "# Use `.select` and `.cast` to convert the `abool` column to an integer type. View the results.\n",
    "df.select('abool', df.abool.cast('int')).show()"
   ]
  },
  {
   "cell_type": "code",
   "execution_count": 28,
   "id": "097b61e5",
   "metadata": {},
   "outputs": [
    {
     "name": "stdout",
     "output_type": "stream",
     "text": [
      "+-----+-----+\n",
      "|group|group|\n",
      "+-----+-----+\n",
      "|    z| null|\n",
      "|    x| null|\n",
      "|    z| null|\n",
      "|    y| null|\n",
      "|    z| null|\n",
      "|    y| null|\n",
      "|    z| null|\n",
      "|    x| null|\n",
      "|    z| null|\n",
      "|    y| null|\n",
      "|    x| null|\n",
      "|    y| null|\n",
      "|    y| null|\n",
      "|    y| null|\n",
      "|    y| null|\n",
      "|    x| null|\n",
      "|    z| null|\n",
      "|    y| null|\n",
      "|    x| null|\n",
      "|    x| null|\n",
      "+-----+-----+\n",
      "\n"
     ]
    }
   ],
   "source": [
    "#Convert the `group` column to a integer data type and view the results. What happens?\n",
    "# the values are converted to nulls\n",
    "df.select('group', df.group.cast('int')).show()"
   ]
  },
  {
   "cell_type": "code",
   "execution_count": 29,
   "id": "d2c2d309",
   "metadata": {},
   "outputs": [
    {
     "name": "stdout",
     "output_type": "stream",
     "text": [
      "+--------------------+---+\n",
      "|                   n|  n|\n",
      "+--------------------+---+\n",
      "|  -0.712390662050588|  0|\n",
      "|   0.753766378659703|  0|\n",
      "|-0.04450307833805...|  0|\n",
      "| 0.45181233874578974|  0|\n",
      "|  1.3451017084510097|  1|\n",
      "|  0.5323378882945463|  0|\n",
      "|  1.3501878997225267|  1|\n",
      "|  0.8612113741693206|  0|\n",
      "|  1.4786857374358966|  1|\n",
      "| -1.0453771305385342| -1|\n",
      "| -0.7889890249515489|  0|\n",
      "|  -1.261605945319069| -1|\n",
      "|  0.5628467852810314|  0|\n",
      "|-0.24332625188556253|  0|\n",
      "|  0.9137407048596775|  0|\n",
      "| 0.31735092273633597|  0|\n",
      "| 0.12730328020698067|  0|\n",
      "|  2.1503829673811126|  2|\n",
      "|  0.6062886568962988|  0|\n",
      "|-0.02677164998644...|  0|\n",
      "+--------------------+---+\n",
      "\n"
     ]
    }
   ],
   "source": [
    "# Convert the `n` column to a integer data type and view the results. What happens?\n",
    "df.select('n', df.n.cast('int')).show()"
   ]
  },
  {
   "cell_type": "code",
   "execution_count": 30,
   "id": "b7282808",
   "metadata": {},
   "outputs": [
    {
     "name": "stdout",
     "output_type": "stream",
     "text": [
      "+-----+-----+\n",
      "|abool|abool|\n",
      "+-----+-----+\n",
      "|false|false|\n",
      "|false|false|\n",
      "|false|false|\n",
      "|false|false|\n",
      "|false|false|\n",
      "|false|false|\n",
      "|false|false|\n",
      "|false|false|\n",
      "| true| true|\n",
      "| true| true|\n",
      "|false|false|\n",
      "|false|false|\n",
      "| true| true|\n",
      "| true| true|\n",
      "|false|false|\n",
      "|false|false|\n",
      "|false|false|\n",
      "| true| true|\n",
      "|false|false|\n",
      "| true| true|\n",
      "+-----+-----+\n",
      "\n"
     ]
    }
   ],
   "source": [
    "# Convert the `abool` column to a string data type and view the results. What happens?\n",
    "df.select('abool', df.abool.cast('string')).show()"
   ]
  },
  {
   "cell_type": "markdown",
   "id": "3fdfbd52",
   "metadata": {},
   "source": [
    "# 4. Built-in Functions"
   ]
  },
  {
   "cell_type": "code",
   "execution_count": 31,
   "id": "4c7b8eaa",
   "metadata": {},
   "outputs": [],
   "source": [
    "from pyspark.sql.functions import min, max, mean, lit, concat"
   ]
  },
  {
   "cell_type": "code",
   "execution_count": 35,
   "id": "2d22c7e6",
   "metadata": {},
   "outputs": [
    {
     "name": "stdout",
     "output_type": "stream",
     "text": [
      "+------------------+\n",
      "|            max(n)|\n",
      "+------------------+\n",
      "|2.1503829673811126|\n",
      "+------------------+\n",
      "\n"
     ]
    }
   ],
   "source": [
    "# Find the highest `n` value\n",
    "df.select(max('n')).show()"
   ]
  },
  {
   "cell_type": "code",
   "execution_count": 36,
   "id": "646fb9a2",
   "metadata": {},
   "outputs": [
    {
     "name": "stdout",
     "output_type": "stream",
     "text": [
      "+------------------+\n",
      "|            min(n)|\n",
      "+------------------+\n",
      "|-1.261605945319069|\n",
      "+------------------+\n",
      "\n"
     ]
    }
   ],
   "source": [
    "# Find the lowest `n` value\n",
    "df.select(min('n')).show()"
   ]
  },
  {
   "cell_type": "code",
   "execution_count": 37,
   "id": "f6fc0b89",
   "metadata": {},
   "outputs": [
    {
     "name": "stdout",
     "output_type": "stream",
     "text": [
      "+-------------------+\n",
      "|             avg(n)|\n",
      "+-------------------+\n",
      "|0.36640264498852165|\n",
      "+-------------------+\n",
      "\n"
     ]
    }
   ],
   "source": [
    "# Find the average `n` value\n",
    "df.select(mean('n')).show()"
   ]
  },
  {
   "cell_type": "code",
   "execution_count": 44,
   "id": "37f0bd97",
   "metadata": {},
   "outputs": [
    {
     "name": "stdout",
     "output_type": "stream",
     "text": [
      "+----------------------+\n",
      "|concat(Group: , group)|\n",
      "+----------------------+\n",
      "|              Group: z|\n",
      "|              Group: x|\n",
      "|              Group: z|\n",
      "|              Group: y|\n",
      "|              Group: z|\n",
      "|              Group: y|\n",
      "|              Group: z|\n",
      "|              Group: x|\n",
      "|              Group: z|\n",
      "|              Group: y|\n",
      "|              Group: x|\n",
      "|              Group: y|\n",
      "|              Group: y|\n",
      "|              Group: y|\n",
      "|              Group: y|\n",
      "|              Group: x|\n",
      "|              Group: z|\n",
      "|              Group: y|\n",
      "|              Group: x|\n",
      "|              Group: x|\n",
      "+----------------------+\n",
      "\n"
     ]
    }
   ],
   "source": [
    "# Use `concat` to change the `group` column to say, e.g. \"Group: x\" or \"Group: y\"\n",
    "df.select(concat(lit('Group: '), 'group')).show()"
   ]
  },
  {
   "cell_type": "code",
   "execution_count": 45,
   "id": "576787f8",
   "metadata": {},
   "outputs": [
    {
     "name": "stdout",
     "output_type": "stream",
     "text": [
      "+--------------------+-----+-----+--------------------+--------------------+\n",
      "|                   n|group|abool|                  n2|                  n3|\n",
      "+--------------------+-----+-----+--------------------+--------------------+\n",
      "|  -0.712390662050588|    z|false|   0.712390662050588|   0.507500455376875|\n",
      "|   0.753766378659703|    x|false|  -0.753766378659703|  0.5681637535977627|\n",
      "|-0.04450307833805...|    z|false|0.044503078338053455|0.001980523981562...|\n",
      "| 0.45181233874578974|    y|false|-0.45181233874578974| 0.20413438944294027|\n",
      "|  1.3451017084510097|    z|false| -1.3451017084510097|  1.8092986060778251|\n",
      "|  0.5323378882945463|    y|false| -0.5323378882945463|  0.2833836273138969|\n",
      "|  1.3501878997225267|    z|false| -1.3501878997225267|  1.8230073645571279|\n",
      "|  0.8612113741693206|    x|false| -0.8612113741693206|  0.7416850309986095|\n",
      "|  1.4786857374358966|    z| true| -1.4786857374358966|  2.1865115100963415|\n",
      "| -1.0453771305385342|    y| true|  1.0453771305385342|  1.0928133450529796|\n",
      "| -0.7889890249515489|    x|false|  0.7889890249515489|  0.6225036814939958|\n",
      "|  -1.261605945319069|    y|false|   1.261605945319069|   1.591649561264422|\n",
      "|  0.5628467852810314|    y| true| -0.5628467852810314| 0.31679650370119145|\n",
      "|-0.24332625188556253|    y| true| 0.24332625188556253| 0.05920766485667622|\n",
      "|  0.9137407048596775|    y|false| -0.9137407048596775|  0.8349220757174602|\n",
      "| 0.31735092273633597|    x|false|-0.31735092273633597| 0.10071160816160388|\n",
      "| 0.12730328020698067|    z|false|-0.12730328020698067|0.016206125151457036|\n",
      "|  2.1503829673811126|    y| true| -2.1503829673811126|   4.624146906402799|\n",
      "|  0.6062886568962988|    x|false| -0.6062886568962988|   0.367585935481118|\n",
      "|-0.02677164998644...|    x| true|0.026771649986440726|7.167212429964917E-4|\n",
      "+--------------------+-----+-----+--------------------+--------------------+\n",
      "\n"
     ]
    }
   ],
   "source": [
    "df.show()"
   ]
  },
  {
   "cell_type": "code",
   "execution_count": 42,
   "id": "e8507bab",
   "metadata": {},
   "outputs": [
    {
     "name": "stdout",
     "output_type": "stream",
     "text": [
      "+--------------------+\n",
      "|concat(group, : , n)|\n",
      "+--------------------+\n",
      "|z: -0.71239066205...|\n",
      "|x: 0.753766378659703|\n",
      "|z: -0.04450307833...|\n",
      "|y: 0.451812338745...|\n",
      "|z: 1.345101708451...|\n",
      "|y: 0.532337888294...|\n",
      "|z: 1.350187899722...|\n",
      "|x: 0.861211374169...|\n",
      "|z: 1.478685737435...|\n",
      "|y: -1.04537713053...|\n",
      "|x: -0.78898902495...|\n",
      "|y: -1.26160594531...|\n",
      "|y: 0.562846785281...|\n",
      "|y: -0.24332625188...|\n",
      "|y: 0.913740704859...|\n",
      "|x: 0.317350922736...|\n",
      "|z: 0.127303280206...|\n",
      "|y: 2.150382967381...|\n",
      "|x: 0.606288656896...|\n",
      "|x: -0.02677164998...|\n",
      "+--------------------+\n",
      "\n"
     ]
    }
   ],
   "source": [
    "# Use `concat` to combine the `n` and `group` columns to produce results that look like this: \"x: -1.432\" or \"z: 2.352\"\n",
    "df.select(concat('group', lit(': '), 'n')).show()"
   ]
  },
  {
   "cell_type": "markdown",
   "id": "f7e1e2b5",
   "metadata": {},
   "source": [
    "# When / Otherwise"
   ]
  },
  {
   "cell_type": "code",
   "execution_count": 47,
   "id": "ec94a9e5",
   "metadata": {},
   "outputs": [],
   "source": [
    "from pyspark.sql.functions import when"
   ]
  },
  {
   "cell_type": "code",
   "execution_count": 48,
   "id": "a1edcf9e",
   "metadata": {},
   "outputs": [
    {
     "name": "stdout",
     "output_type": "stream",
     "text": [
      "+----------------------------------------------------+\n",
      "|CASE WHEN abool THEN It is true ELSE It is false END|\n",
      "+----------------------------------------------------+\n",
      "|                                         It is false|\n",
      "|                                         It is false|\n",
      "|                                         It is false|\n",
      "|                                         It is false|\n",
      "|                                         It is false|\n",
      "|                                         It is false|\n",
      "|                                         It is false|\n",
      "|                                         It is false|\n",
      "|                                          It is true|\n",
      "|                                          It is true|\n",
      "|                                         It is false|\n",
      "|                                         It is false|\n",
      "|                                          It is true|\n",
      "|                                          It is true|\n",
      "|                                         It is false|\n",
      "|                                         It is false|\n",
      "|                                         It is false|\n",
      "|                                          It is true|\n",
      "|                                         It is false|\n",
      "|                                          It is true|\n",
      "+----------------------------------------------------+\n",
      "\n"
     ]
    }
   ],
   "source": [
    "# Use `when` and `.otherwise` to create a column that contains the text \n",
    "# \"It is true\" when `abool` is true and \"It is false\"\" when `abool` is false.\n",
    "df.select(when(df.abool, 'It is true').otherwise('It is false')).show()"
   ]
  },
  {
   "cell_type": "code",
   "execution_count": 49,
   "id": "89019748",
   "metadata": {},
   "outputs": [
    {
     "name": "stdout",
     "output_type": "stream",
     "text": [
      "+--------------------+-----------------------------------+\n",
      "|                   n|CASE WHEN (n < 0) THEN 0 ELSE n END|\n",
      "+--------------------+-----------------------------------+\n",
      "|  -0.712390662050588|                                0.0|\n",
      "|   0.753766378659703|                  0.753766378659703|\n",
      "|-0.04450307833805...|                                0.0|\n",
      "| 0.45181233874578974|                0.45181233874578974|\n",
      "|  1.3451017084510097|                 1.3451017084510097|\n",
      "|  0.5323378882945463|                 0.5323378882945463|\n",
      "|  1.3501878997225267|                 1.3501878997225267|\n",
      "|  0.8612113741693206|                 0.8612113741693206|\n",
      "|  1.4786857374358966|                 1.4786857374358966|\n",
      "| -1.0453771305385342|                                0.0|\n",
      "| -0.7889890249515489|                                0.0|\n",
      "|  -1.261605945319069|                                0.0|\n",
      "|  0.5628467852810314|                 0.5628467852810314|\n",
      "|-0.24332625188556253|                                0.0|\n",
      "|  0.9137407048596775|                 0.9137407048596775|\n",
      "| 0.31735092273633597|                0.31735092273633597|\n",
      "| 0.12730328020698067|                0.12730328020698067|\n",
      "|  2.1503829673811126|                 2.1503829673811126|\n",
      "|  0.6062886568962988|                 0.6062886568962988|\n",
      "|-0.02677164998644...|                                0.0|\n",
      "+--------------------+-----------------------------------+\n",
      "\n"
     ]
    }
   ],
   "source": [
    "# Create a column that contains 0 if n is less than 0, otherwise, the original n value.\n",
    "df.select('n', when(df.n < 0, 0).otherwise(df.n)).show()"
   ]
  },
  {
   "cell_type": "markdown",
   "id": "2d8761cf",
   "metadata": {},
   "source": [
    "# Filter / Where"
   ]
  },
  {
   "cell_type": "code",
   "execution_count": 50,
   "id": "8a4c016e",
   "metadata": {},
   "outputs": [
    {
     "name": "stdout",
     "output_type": "stream",
     "text": [
      "+--------------------+-----+-----+--------------------+-------------------+\n",
      "|                   n|group|abool|                  n2|                 n3|\n",
      "+--------------------+-----+-----+--------------------+-------------------+\n",
      "| 0.45181233874578974|    y|false|-0.45181233874578974|0.20413438944294027|\n",
      "|  0.5323378882945463|    y|false| -0.5323378882945463| 0.2833836273138969|\n",
      "| -1.0453771305385342|    y| true|  1.0453771305385342| 1.0928133450529796|\n",
      "|  -1.261605945319069|    y|false|   1.261605945319069|  1.591649561264422|\n",
      "|  0.5628467852810314|    y| true| -0.5628467852810314|0.31679650370119145|\n",
      "|-0.24332625188556253|    y| true| 0.24332625188556253|0.05920766485667622|\n",
      "|  0.9137407048596775|    y|false| -0.9137407048596775| 0.8349220757174602|\n",
      "|  2.1503829673811126|    y| true| -2.1503829673811126|  4.624146906402799|\n",
      "+--------------------+-----+-----+--------------------+-------------------+\n",
      "\n"
     ]
    }
   ],
   "source": [
    "# Use .filter or .where to select just the rows where the group is y and view the results.\n",
    "df.filter(df.group == 'y').show()"
   ]
  },
  {
   "cell_type": "code",
   "execution_count": 51,
   "id": "d18dea4b",
   "metadata": {},
   "outputs": [
    {
     "name": "stdout",
     "output_type": "stream",
     "text": [
      "+--------------------+-----+-----+--------------------+--------------------+\n",
      "|                   n|group|abool|                  n2|                  n3|\n",
      "+--------------------+-----+-----+--------------------+--------------------+\n",
      "|  -0.712390662050588|    z|false|   0.712390662050588|   0.507500455376875|\n",
      "|   0.753766378659703|    x|false|  -0.753766378659703|  0.5681637535977627|\n",
      "|-0.04450307833805...|    z|false|0.044503078338053455|0.001980523981562...|\n",
      "| 0.45181233874578974|    y|false|-0.45181233874578974| 0.20413438944294027|\n",
      "|  1.3451017084510097|    z|false| -1.3451017084510097|  1.8092986060778251|\n",
      "|  0.5323378882945463|    y|false| -0.5323378882945463|  0.2833836273138969|\n",
      "|  1.3501878997225267|    z|false| -1.3501878997225267|  1.8230073645571279|\n",
      "|  0.8612113741693206|    x|false| -0.8612113741693206|  0.7416850309986095|\n",
      "| -0.7889890249515489|    x|false|  0.7889890249515489|  0.6225036814939958|\n",
      "|  -1.261605945319069|    y|false|   1.261605945319069|   1.591649561264422|\n",
      "|  0.9137407048596775|    y|false| -0.9137407048596775|  0.8349220757174602|\n",
      "| 0.31735092273633597|    x|false|-0.31735092273633597| 0.10071160816160388|\n",
      "| 0.12730328020698067|    z|false|-0.12730328020698067|0.016206125151457036|\n",
      "|  0.6062886568962988|    x|false| -0.6062886568962988|   0.367585935481118|\n",
      "+--------------------+-----+-----+--------------------+--------------------+\n",
      "\n"
     ]
    }
   ],
   "source": [
    "# Select just the columns where the abool column is false and view the results.\n",
    "df.filter(~ df.abool).show()"
   ]
  },
  {
   "cell_type": "code",
   "execution_count": 52,
   "id": "19ffff2f",
   "metadata": {},
   "outputs": [
    {
     "name": "stdout",
     "output_type": "stream",
     "text": [
      "+--------------------+-----+-----+--------------------+--------------------+\n",
      "|                   n|group|abool|                  n2|                  n3|\n",
      "+--------------------+-----+-----+--------------------+--------------------+\n",
      "|  -0.712390662050588|    z|false|   0.712390662050588|   0.507500455376875|\n",
      "|   0.753766378659703|    x|false|  -0.753766378659703|  0.5681637535977627|\n",
      "|-0.04450307833805...|    z|false|0.044503078338053455|0.001980523981562...|\n",
      "|  1.3451017084510097|    z|false| -1.3451017084510097|  1.8092986060778251|\n",
      "|  1.3501878997225267|    z|false| -1.3501878997225267|  1.8230073645571279|\n",
      "|  0.8612113741693206|    x|false| -0.8612113741693206|  0.7416850309986095|\n",
      "|  1.4786857374358966|    z| true| -1.4786857374358966|  2.1865115100963415|\n",
      "| -0.7889890249515489|    x|false|  0.7889890249515489|  0.6225036814939958|\n",
      "| 0.31735092273633597|    x|false|-0.31735092273633597| 0.10071160816160388|\n",
      "| 0.12730328020698067|    z|false|-0.12730328020698067|0.016206125151457036|\n",
      "|  0.6062886568962988|    x|false| -0.6062886568962988|   0.367585935481118|\n",
      "|-0.02677164998644...|    x| true|0.026771649986440726|7.167212429964917E-4|\n",
      "+--------------------+-----+-----+--------------------+--------------------+\n",
      "\n"
     ]
    }
   ],
   "source": [
    "# Find the columns where the group column is not y.\n",
    "df.filter(df.group != 'y').show()"
   ]
  },
  {
   "cell_type": "code",
   "execution_count": 53,
   "id": "7be88fbd",
   "metadata": {},
   "outputs": [
    {
     "name": "stdout",
     "output_type": "stream",
     "text": [
      "+-------------------+-----+-----+--------------------+--------------------+\n",
      "|                  n|group|abool|                  n2|                  n3|\n",
      "+-------------------+-----+-----+--------------------+--------------------+\n",
      "|  0.753766378659703|    x|false|  -0.753766378659703|  0.5681637535977627|\n",
      "|0.45181233874578974|    y|false|-0.45181233874578974| 0.20413438944294027|\n",
      "| 1.3451017084510097|    z|false| -1.3451017084510097|  1.8092986060778251|\n",
      "| 0.5323378882945463|    y|false| -0.5323378882945463|  0.2833836273138969|\n",
      "| 1.3501878997225267|    z|false| -1.3501878997225267|  1.8230073645571279|\n",
      "| 0.8612113741693206|    x|false| -0.8612113741693206|  0.7416850309986095|\n",
      "| 1.4786857374358966|    z| true| -1.4786857374358966|  2.1865115100963415|\n",
      "| 0.5628467852810314|    y| true| -0.5628467852810314| 0.31679650370119145|\n",
      "| 0.9137407048596775|    y|false| -0.9137407048596775|  0.8349220757174602|\n",
      "|0.31735092273633597|    x|false|-0.31735092273633597| 0.10071160816160388|\n",
      "|0.12730328020698067|    z|false|-0.12730328020698067|0.016206125151457036|\n",
      "| 2.1503829673811126|    y| true| -2.1503829673811126|   4.624146906402799|\n",
      "| 0.6062886568962988|    x|false| -0.6062886568962988|   0.367585935481118|\n",
      "+-------------------+-----+-----+--------------------+--------------------+\n",
      "\n"
     ]
    }
   ],
   "source": [
    "# Find the columns where n is positive.\n",
    "df.filter(df.n > 0).show()"
   ]
  },
  {
   "cell_type": "code",
   "execution_count": 54,
   "id": "6f316a32",
   "metadata": {},
   "outputs": [
    {
     "name": "stdout",
     "output_type": "stream",
     "text": [
      "+------------------+-----+-----+-------------------+------------------+\n",
      "|                 n|group|abool|                 n2|                n3|\n",
      "+------------------+-----+-----+-------------------+------------------+\n",
      "|1.4786857374358966|    z| true|-1.4786857374358966|2.1865115100963415|\n",
      "+------------------+-----+-----+-------------------+------------------+\n",
      "\n"
     ]
    }
   ],
   "source": [
    "# Find the columns where abool is true and the group column is z.\n",
    "df.filter(df.abool & (df.group == 'z')).show()"
   ]
  },
  {
   "cell_type": "code",
   "execution_count": 55,
   "id": "000ed207",
   "metadata": {},
   "outputs": [
    {
     "name": "stdout",
     "output_type": "stream",
     "text": [
      "+--------------------+-----+-----+--------------------+--------------------+\n",
      "|                   n|group|abool|                  n2|                  n3|\n",
      "+--------------------+-----+-----+--------------------+--------------------+\n",
      "|  -0.712390662050588|    z|false|   0.712390662050588|   0.507500455376875|\n",
      "|-0.04450307833805...|    z|false|0.044503078338053455|0.001980523981562...|\n",
      "|  1.3451017084510097|    z|false| -1.3451017084510097|  1.8092986060778251|\n",
      "|  1.3501878997225267|    z|false| -1.3501878997225267|  1.8230073645571279|\n",
      "|  1.4786857374358966|    z| true| -1.4786857374358966|  2.1865115100963415|\n",
      "| -1.0453771305385342|    y| true|  1.0453771305385342|  1.0928133450529796|\n",
      "|  0.5628467852810314|    y| true| -0.5628467852810314| 0.31679650370119145|\n",
      "|-0.24332625188556253|    y| true| 0.24332625188556253| 0.05920766485667622|\n",
      "| 0.12730328020698067|    z|false|-0.12730328020698067|0.016206125151457036|\n",
      "|  2.1503829673811126|    y| true| -2.1503829673811126|   4.624146906402799|\n",
      "|-0.02677164998644...|    x| true|0.026771649986440726|7.167212429964917E-4|\n",
      "+--------------------+-----+-----+--------------------+--------------------+\n",
      "\n"
     ]
    }
   ],
   "source": [
    "# Find the columns where abool is true or the group column is z.\n",
    "df.filter(df.abool | (df.group == 'z')).show()"
   ]
  },
  {
   "cell_type": "code",
   "execution_count": 56,
   "id": "44302e5f",
   "metadata": {},
   "outputs": [
    {
     "name": "stdout",
     "output_type": "stream",
     "text": [
      "+--------------------+-----+-----+--------------------+--------------------+\n",
      "|                   n|group|abool|                  n2|                  n3|\n",
      "+--------------------+-----+-----+--------------------+--------------------+\n",
      "|  -0.712390662050588|    z|false|   0.712390662050588|   0.507500455376875|\n",
      "|   0.753766378659703|    x|false|  -0.753766378659703|  0.5681637535977627|\n",
      "|-0.04450307833805...|    z|false|0.044503078338053455|0.001980523981562...|\n",
      "| 0.45181233874578974|    y|false|-0.45181233874578974| 0.20413438944294027|\n",
      "|  0.5323378882945463|    y|false| -0.5323378882945463|  0.2833836273138969|\n",
      "|  0.8612113741693206|    x|false| -0.8612113741693206|  0.7416850309986095|\n",
      "| -0.7889890249515489|    x|false|  0.7889890249515489|  0.6225036814939958|\n",
      "|  -1.261605945319069|    y|false|   1.261605945319069|   1.591649561264422|\n",
      "|  0.9137407048596775|    y|false| -0.9137407048596775|  0.8349220757174602|\n",
      "| 0.31735092273633597|    x|false|-0.31735092273633597| 0.10071160816160388|\n",
      "| 0.12730328020698067|    z|false|-0.12730328020698067|0.016206125151457036|\n",
      "|  0.6062886568962988|    x|false| -0.6062886568962988|   0.367585935481118|\n",
      "+--------------------+-----+-----+--------------------+--------------------+\n",
      "\n"
     ]
    }
   ],
   "source": [
    "# Find the columns where abool is false and n is less than 1\n",
    "df.filter(~ df.abool & (df.n < 1)).show()"
   ]
  },
  {
   "cell_type": "code",
   "execution_count": 57,
   "id": "2d23daf1",
   "metadata": {},
   "outputs": [
    {
     "name": "stdout",
     "output_type": "stream",
     "text": [
      "+--------------------+-----+-----+--------------------+--------------------+\n",
      "|                   n|group|abool|                  n2|                  n3|\n",
      "+--------------------+-----+-----+--------------------+--------------------+\n",
      "|  -0.712390662050588|    z|false|   0.712390662050588|   0.507500455376875|\n",
      "|   0.753766378659703|    x|false|  -0.753766378659703|  0.5681637535977627|\n",
      "|-0.04450307833805...|    z|false|0.044503078338053455|0.001980523981562...|\n",
      "| 0.45181233874578974|    y|false|-0.45181233874578974| 0.20413438944294027|\n",
      "|  1.3451017084510097|    z|false| -1.3451017084510097|  1.8092986060778251|\n",
      "|  0.5323378882945463|    y|false| -0.5323378882945463|  0.2833836273138969|\n",
      "|  1.3501878997225267|    z|false| -1.3501878997225267|  1.8230073645571279|\n",
      "|  0.8612113741693206|    x|false| -0.8612113741693206|  0.7416850309986095|\n",
      "| -1.0453771305385342|    y| true|  1.0453771305385342|  1.0928133450529796|\n",
      "| -0.7889890249515489|    x|false|  0.7889890249515489|  0.6225036814939958|\n",
      "|  -1.261605945319069|    y|false|   1.261605945319069|   1.591649561264422|\n",
      "|  0.5628467852810314|    y| true| -0.5628467852810314| 0.31679650370119145|\n",
      "|-0.24332625188556253|    y| true| 0.24332625188556253| 0.05920766485667622|\n",
      "|  0.9137407048596775|    y|false| -0.9137407048596775|  0.8349220757174602|\n",
      "| 0.31735092273633597|    x|false|-0.31735092273633597| 0.10071160816160388|\n",
      "| 0.12730328020698067|    z|false|-0.12730328020698067|0.016206125151457036|\n",
      "|  0.6062886568962988|    x|false| -0.6062886568962988|   0.367585935481118|\n",
      "|-0.02677164998644...|    x| true|0.026771649986440726|7.167212429964917E-4|\n",
      "+--------------------+-----+-----+--------------------+--------------------+\n",
      "\n"
     ]
    }
   ],
   "source": [
    "# Find the columns where abool is false or n is less than 1\n",
    "df.filter(~ df.abool | (df.n < 1)).show()"
   ]
  },
  {
   "cell_type": "markdown",
   "id": "27732dc8",
   "metadata": {},
   "source": [
    "# Sorting"
   ]
  },
  {
   "cell_type": "code",
   "execution_count": 58,
   "id": "55bf44a7",
   "metadata": {},
   "outputs": [],
   "source": [
    "# imports\n",
    "from pyspark.sql.functions import asc, desc"
   ]
  },
  {
   "cell_type": "code",
   "execution_count": 60,
   "id": "2ad46960",
   "metadata": {},
   "outputs": [
    {
     "name": "stdout",
     "output_type": "stream",
     "text": [
      "+--------------------+-----+-----+--------------------+--------------------+\n",
      "|                   n|group|abool|                  n2|                  n3|\n",
      "+--------------------+-----+-----+--------------------+--------------------+\n",
      "|  -1.261605945319069|    y|false|   1.261605945319069|   1.591649561264422|\n",
      "| -1.0453771305385342|    y| true|  1.0453771305385342|  1.0928133450529796|\n",
      "| -0.7889890249515489|    x|false|  0.7889890249515489|  0.6225036814939958|\n",
      "|  -0.712390662050588|    z|false|   0.712390662050588|   0.507500455376875|\n",
      "|-0.24332625188556253|    y| true| 0.24332625188556253| 0.05920766485667622|\n",
      "|-0.04450307833805...|    z|false|0.044503078338053455|0.001980523981562...|\n",
      "|-0.02677164998644...|    x| true|0.026771649986440726|7.167212429964917E-4|\n",
      "| 0.12730328020698067|    z|false|-0.12730328020698067|0.016206125151457036|\n",
      "| 0.31735092273633597|    x|false|-0.31735092273633597| 0.10071160816160388|\n",
      "| 0.45181233874578974|    y|false|-0.45181233874578974| 0.20413438944294027|\n",
      "|  0.5323378882945463|    y|false| -0.5323378882945463|  0.2833836273138969|\n",
      "|  0.5628467852810314|    y| true| -0.5628467852810314| 0.31679650370119145|\n",
      "|  0.6062886568962988|    x|false| -0.6062886568962988|   0.367585935481118|\n",
      "|   0.753766378659703|    x|false|  -0.753766378659703|  0.5681637535977627|\n",
      "|  0.8612113741693206|    x|false| -0.8612113741693206|  0.7416850309986095|\n",
      "|  0.9137407048596775|    y|false| -0.9137407048596775|  0.8349220757174602|\n",
      "|  1.3451017084510097|    z|false| -1.3451017084510097|  1.8092986060778251|\n",
      "|  1.3501878997225267|    z|false| -1.3501878997225267|  1.8230073645571279|\n",
      "|  1.4786857374358966|    z| true| -1.4786857374358966|  2.1865115100963415|\n",
      "|  2.1503829673811126|    y| true| -2.1503829673811126|   4.624146906402799|\n",
      "+--------------------+-----+-----+--------------------+--------------------+\n",
      "\n"
     ]
    }
   ],
   "source": [
    "# Sort by the n value.\n",
    "df.sort('n').show()"
   ]
  },
  {
   "cell_type": "code",
   "execution_count": 65,
   "id": "25a0cc1a",
   "metadata": {},
   "outputs": [
    {
     "name": "stdout",
     "output_type": "stream",
     "text": [
      "+--------------------+-----+-----+--------------------+--------------------+\n",
      "|                   n|group|abool|                  n2|                  n3|\n",
      "+--------------------+-----+-----+--------------------+--------------------+\n",
      "|-0.02677164998644...|    x| true|0.026771649986440726|7.167212429964917E-4|\n",
      "|   0.753766378659703|    x|false|  -0.753766378659703|  0.5681637535977627|\n",
      "| -0.7889890249515489|    x|false|  0.7889890249515489|  0.6225036814939958|\n",
      "| 0.31735092273633597|    x|false|-0.31735092273633597| 0.10071160816160388|\n",
      "|  0.8612113741693206|    x|false| -0.8612113741693206|  0.7416850309986095|\n",
      "|  0.6062886568962988|    x|false| -0.6062886568962988|   0.367585935481118|\n",
      "| 0.45181233874578974|    y|false|-0.45181233874578974| 0.20413438944294027|\n",
      "|  0.9137407048596775|    y|false| -0.9137407048596775|  0.8349220757174602|\n",
      "|-0.24332625188556253|    y| true| 0.24332625188556253| 0.05920766485667622|\n",
      "|  0.5323378882945463|    y|false| -0.5323378882945463|  0.2833836273138969|\n",
      "|  -1.261605945319069|    y|false|   1.261605945319069|   1.591649561264422|\n",
      "|  0.5628467852810314|    y| true| -0.5628467852810314| 0.31679650370119145|\n",
      "|  2.1503829673811126|    y| true| -2.1503829673811126|   4.624146906402799|\n",
      "| -1.0453771305385342|    y| true|  1.0453771305385342|  1.0928133450529796|\n",
      "|  -0.712390662050588|    z|false|   0.712390662050588|   0.507500455376875|\n",
      "|-0.04450307833805...|    z|false|0.044503078338053455|0.001980523981562...|\n",
      "|  1.3451017084510097|    z|false| -1.3451017084510097|  1.8092986060778251|\n",
      "| 0.12730328020698067|    z|false|-0.12730328020698067|0.016206125151457036|\n",
      "|  1.3501878997225267|    z|false| -1.3501878997225267|  1.8230073645571279|\n",
      "|  1.4786857374358966|    z| true| -1.4786857374358966|  2.1865115100963415|\n",
      "+--------------------+-----+-----+--------------------+--------------------+\n",
      "\n"
     ]
    }
   ],
   "source": [
    "# Sort by the group value, both ascending and descending.\n",
    "df.sort(asc('group')).show()"
   ]
  },
  {
   "cell_type": "code",
   "execution_count": 63,
   "id": "febb497d",
   "metadata": {},
   "outputs": [
    {
     "name": "stdout",
     "output_type": "stream",
     "text": [
      "+--------------------+-----+-----+--------------------+--------------------+\n",
      "|                   n|group|abool|                  n2|                  n3|\n",
      "+--------------------+-----+-----+--------------------+--------------------+\n",
      "| 0.12730328020698067|    z|false|-0.12730328020698067|0.016206125151457036|\n",
      "|  -0.712390662050588|    z|false|   0.712390662050588|   0.507500455376875|\n",
      "|  1.3451017084510097|    z|false| -1.3451017084510097|  1.8092986060778251|\n",
      "|  1.3501878997225267|    z|false| -1.3501878997225267|  1.8230073645571279|\n",
      "|-0.04450307833805...|    z|false|0.044503078338053455|0.001980523981562...|\n",
      "|  1.4786857374358966|    z| true| -1.4786857374358966|  2.1865115100963415|\n",
      "| 0.45181233874578974|    y|false|-0.45181233874578974| 0.20413438944294027|\n",
      "|  0.9137407048596775|    y|false| -0.9137407048596775|  0.8349220757174602|\n",
      "|-0.24332625188556253|    y| true| 0.24332625188556253| 0.05920766485667622|\n",
      "|  0.5323378882945463|    y|false| -0.5323378882945463|  0.2833836273138969|\n",
      "|  -1.261605945319069|    y|false|   1.261605945319069|   1.591649561264422|\n",
      "|  0.5628467852810314|    y| true| -0.5628467852810314| 0.31679650370119145|\n",
      "|  2.1503829673811126|    y| true| -2.1503829673811126|   4.624146906402799|\n",
      "| -1.0453771305385342|    y| true|  1.0453771305385342|  1.0928133450529796|\n",
      "|   0.753766378659703|    x|false|  -0.753766378659703|  0.5681637535977627|\n",
      "|  0.8612113741693206|    x|false| -0.8612113741693206|  0.7416850309986095|\n",
      "| -0.7889890249515489|    x|false|  0.7889890249515489|  0.6225036814939958|\n",
      "|-0.02677164998644...|    x| true|0.026771649986440726|7.167212429964917E-4|\n",
      "| 0.31735092273633597|    x|false|-0.31735092273633597| 0.10071160816160388|\n",
      "|  0.6062886568962988|    x|false| -0.6062886568962988|   0.367585935481118|\n",
      "+--------------------+-----+-----+--------------------+--------------------+\n",
      "\n"
     ]
    }
   ],
   "source": [
    "# descending\n",
    "df.sort(desc('group')).show()"
   ]
  },
  {
   "cell_type": "code",
   "execution_count": 66,
   "id": "02761aa4",
   "metadata": {},
   "outputs": [
    {
     "name": "stdout",
     "output_type": "stream",
     "text": [
      "+--------------------+-----+-----+--------------------+--------------------+\n",
      "|                   n|group|abool|                  n2|                  n3|\n",
      "+--------------------+-----+-----+--------------------+--------------------+\n",
      "| -0.7889890249515489|    x|false|  0.7889890249515489|  0.6225036814939958|\n",
      "|-0.02677164998644...|    x| true|0.026771649986440726|7.167212429964917E-4|\n",
      "| 0.31735092273633597|    x|false|-0.31735092273633597| 0.10071160816160388|\n",
      "|  0.6062886568962988|    x|false| -0.6062886568962988|   0.367585935481118|\n",
      "|   0.753766378659703|    x|false|  -0.753766378659703|  0.5681637535977627|\n",
      "|  0.8612113741693206|    x|false| -0.8612113741693206|  0.7416850309986095|\n",
      "|  -1.261605945319069|    y|false|   1.261605945319069|   1.591649561264422|\n",
      "| -1.0453771305385342|    y| true|  1.0453771305385342|  1.0928133450529796|\n",
      "|-0.24332625188556253|    y| true| 0.24332625188556253| 0.05920766485667622|\n",
      "| 0.45181233874578974|    y|false|-0.45181233874578974| 0.20413438944294027|\n",
      "|  0.5323378882945463|    y|false| -0.5323378882945463|  0.2833836273138969|\n",
      "|  0.5628467852810314|    y| true| -0.5628467852810314| 0.31679650370119145|\n",
      "|  0.9137407048596775|    y|false| -0.9137407048596775|  0.8349220757174602|\n",
      "|  2.1503829673811126|    y| true| -2.1503829673811126|   4.624146906402799|\n",
      "|  -0.712390662050588|    z|false|   0.712390662050588|   0.507500455376875|\n",
      "|-0.04450307833805...|    z|false|0.044503078338053455|0.001980523981562...|\n",
      "| 0.12730328020698067|    z|false|-0.12730328020698067|0.016206125151457036|\n",
      "|  1.3451017084510097|    z|false| -1.3451017084510097|  1.8092986060778251|\n",
      "|  1.3501878997225267|    z|false| -1.3501878997225267|  1.8230073645571279|\n",
      "|  1.4786857374358966|    z| true| -1.4786857374358966|  2.1865115100963415|\n",
      "+--------------------+-----+-----+--------------------+--------------------+\n",
      "\n"
     ]
    }
   ],
   "source": [
    "# Sort by the group value first, then, within each group, sort by n value.\n",
    "df.sort('group', 'n').show()"
   ]
  },
  {
   "cell_type": "code",
   "execution_count": 67,
   "id": "cce58ae4",
   "metadata": {},
   "outputs": [
    {
     "name": "stdout",
     "output_type": "stream",
     "text": [
      "+--------------------+-----+-----+--------------------+--------------------+\n",
      "|                   n|group|abool|                  n2|                  n3|\n",
      "+--------------------+-----+-----+--------------------+--------------------+\n",
      "| -0.7889890249515489|    x|false|  0.7889890249515489|  0.6225036814939958|\n",
      "| 0.31735092273633597|    x|false|-0.31735092273633597| 0.10071160816160388|\n",
      "|  0.6062886568962988|    x|false| -0.6062886568962988|   0.367585935481118|\n",
      "|   0.753766378659703|    x|false|  -0.753766378659703|  0.5681637535977627|\n",
      "|  0.8612113741693206|    x|false| -0.8612113741693206|  0.7416850309986095|\n",
      "|  -1.261605945319069|    y|false|   1.261605945319069|   1.591649561264422|\n",
      "| 0.45181233874578974|    y|false|-0.45181233874578974| 0.20413438944294027|\n",
      "|  0.5323378882945463|    y|false| -0.5323378882945463|  0.2833836273138969|\n",
      "|  0.9137407048596775|    y|false| -0.9137407048596775|  0.8349220757174602|\n",
      "|  -0.712390662050588|    z|false|   0.712390662050588|   0.507500455376875|\n",
      "|-0.04450307833805...|    z|false|0.044503078338053455|0.001980523981562...|\n",
      "| 0.12730328020698067|    z|false|-0.12730328020698067|0.016206125151457036|\n",
      "|  1.3451017084510097|    z|false| -1.3451017084510097|  1.8092986060778251|\n",
      "|  1.3501878997225267|    z|false| -1.3501878997225267|  1.8230073645571279|\n",
      "|-0.02677164998644...|    x| true|0.026771649986440726|7.167212429964917E-4|\n",
      "| -1.0453771305385342|    y| true|  1.0453771305385342|  1.0928133450529796|\n",
      "|-0.24332625188556253|    y| true| 0.24332625188556253| 0.05920766485667622|\n",
      "|  0.5628467852810314|    y| true| -0.5628467852810314| 0.31679650370119145|\n",
      "|  2.1503829673811126|    y| true| -2.1503829673811126|   4.624146906402799|\n",
      "|  1.4786857374358966|    z| true| -1.4786857374358966|  2.1865115100963415|\n",
      "+--------------------+-----+-----+--------------------+--------------------+\n",
      "\n"
     ]
    }
   ],
   "source": [
    "# Sort by abool, group, and n. Does it matter in what order you specify the columns when sorting?\n",
    "df.sort('abool', 'group', 'n').show()"
   ]
  }
 ],
 "metadata": {
  "kernelspec": {
   "display_name": "Python 3",
   "language": "python",
   "name": "python3"
  },
  "language_info": {
   "codemirror_mode": {
    "name": "ipython",
    "version": 3
   },
   "file_extension": ".py",
   "mimetype": "text/x-python",
   "name": "python",
   "nbconvert_exporter": "python",
   "pygments_lexer": "ipython3",
   "version": "3.8.8"
  }
 },
 "nbformat": 4,
 "nbformat_minor": 5
}
