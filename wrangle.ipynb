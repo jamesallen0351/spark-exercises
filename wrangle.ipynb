{
 "cells": [
  {
   "cell_type": "markdown",
   "id": "5cb78c9f",
   "metadata": {},
   "source": [
    "# Wrangle\n",
    "\n",
    "This exercises uses the case.csv, dept.csv, and source.csv files from the san antonio 311 call dataset.\n",
    "\n",
    "1. Read the case, department, and source data into their own spark dataframes.\n",
    "\n",
    "2. Let's see how writing to the local disk works in spark:\n",
    "\n",
    "    - Write the code necessary to store the source data in both csv and json format, store these as sources_csv and sources_json\n",
    "    \n",
    "    - Inspect your folder structure. What do you notice?\n",
    "    \n",
    "    \n",
    "3. Inspect the data in your dataframes. Are the data types appropriate? Write the code necessary to cast the values to the appropriate types.\n",
    "\n",
    "\n",
    "## Exercise Questions\n",
    "\n",
    "1. How old is the latest (in terms of days past SLA) currently open issue? How long has the oldest (in terms of days since opened) currently opened issue been open?\n",
    "\n",
    "2. How many Stray Animal cases are there?\n",
    "\n",
    "3. How many service requests that are assigned to the Field Operations department (dept_division) are not classified as \"Officer Standby\" request type (service_request_type)?\n",
    "\n",
    "4. Convert the council_district column to a string column.\n",
    "\n",
    "5. Extract the year from the case_closed_date column.\n",
    "\n",
    "6. Convert num_days_late from days to hours in new columns num_hours_late.\n",
    "\n",
    "7. Join the case data with the source and department data.\n",
    "\n",
    "8. Are there any cases that do not have a request source?\n",
    "\n",
    "9. What are the top 10 service request types in terms of number of requests?\n",
    "\n",
    "10. What are the top 10 service request types in terms of average days late?\n",
    "\n",
    "11. Does number of days late depend on department?\n",
    "\n",
    "12. How do number of days late depend on department and request type?"
   ]
  },
  {
   "cell_type": "code",
   "execution_count": 1,
   "id": "6051c08a",
   "metadata": {},
   "outputs": [],
   "source": [
    "# imports\n",
    "from pyspark.sql import SparkSession\n",
    "from pyspark.sql.functions import *\n",
    "\n",
    "# creating a spark\n",
    "spark = SparkSession.builder.getOrCreate()"
   ]
  },
  {
   "cell_type": "code",
   "execution_count": 2,
   "id": "3cc232d8",
   "metadata": {},
   "outputs": [],
   "source": [
    "# reading the source.csv\n",
    "source_df = spark.read.csv(\"source.csv\", sep=\",\", header=True, inferSchema=True)"
   ]
  },
  {
   "cell_type": "code",
   "execution_count": 3,
   "id": "be07cc16",
   "metadata": {},
   "outputs": [
    {
     "name": "stdout",
     "output_type": "stream",
     "text": [
      "+---------+-------------------+\n",
      "|source_id|    source_username|\n",
      "+---------+-------------------+\n",
      "|   100137|   Merlene Blodgett|\n",
      "|   103582|        Carmen Cura|\n",
      "|   106463|    Richard Sanchez|\n",
      "|   119403|     Betty De Hoyos|\n",
      "|   119555|     Socorro Quiara|\n",
      "|   119868|Michelle San Miguel|\n",
      "|   120752|     Eva T. Kleiber|\n",
      "|   124405|          Lori Lara|\n",
      "|   132408|      Leonard Silva|\n",
      "|   135723|       Amy Cardenas|\n",
      "+---------+-------------------+\n",
      "only showing top 10 rows\n",
      "\n"
     ]
    }
   ],
   "source": [
    "# taking a look at the source_df\n",
    "source_df.show(10)"
   ]
  },
  {
   "cell_type": "code",
   "execution_count": 4,
   "id": "de7f6acc",
   "metadata": {},
   "outputs": [],
   "source": [
    "# reading the dept.csv\n",
    "dept_df = spark.read.csv(\"dept.csv\", sep=\",\", header=True, inferSchema=True)"
   ]
  },
  {
   "cell_type": "code",
   "execution_count": 5,
   "id": "ce8bd59c",
   "metadata": {},
   "outputs": [
    {
     "name": "stdout",
     "output_type": "stream",
     "text": [
      "+--------------------+--------------------+----------------------+-------------------+\n",
      "|       dept_division|           dept_name|standardized_dept_name|dept_subject_to_SLA|\n",
      "+--------------------+--------------------+----------------------+-------------------+\n",
      "|     311 Call Center|    Customer Service|      Customer Service|                YES|\n",
      "|               Brush|Solid Waste Manag...|           Solid Waste|                YES|\n",
      "|     Clean and Green|Parks and Recreation|    Parks & Recreation|                YES|\n",
      "|Clean and Green N...|Parks and Recreation|    Parks & Recreation|                YES|\n",
      "|    Code Enforcement|Code Enforcement ...|  DSD/Code Enforcement|                YES|\n",
      "|Code Enforcement ...|Code Enforcement ...|  DSD/Code Enforcement|                YES|\n",
      "|Code Enforcement ...|                null|  DSD/Code Enforcement|                YES|\n",
      "|   Dangerous Premise|Code Enforcement ...|  DSD/Code Enforcement|                YES|\n",
      "|Dangerous Premise...|Code Enforcement ...|  DSD/Code Enforcement|                YES|\n",
      "|Director's Office...|Trans & Cap Impro...|  Trans & Cap Impro...|                YES|\n",
      "+--------------------+--------------------+----------------------+-------------------+\n",
      "only showing top 10 rows\n",
      "\n"
     ]
    }
   ],
   "source": [
    "# taking a look at the dept_df\n",
    "dept_df.show(10)"
   ]
  },
  {
   "cell_type": "code",
   "execution_count": 6,
   "id": "5e343d60",
   "metadata": {},
   "outputs": [],
   "source": [
    "# reading the case.csv\n",
    "case_df = spark.read.csv(\"case.csv\", header=True, inferSchema=True)"
   ]
  },
  {
   "cell_type": "code",
   "execution_count": null,
   "id": "7f18f26a",
   "metadata": {},
   "outputs": [],
   "source": []
  }
 ],
 "metadata": {
  "kernelspec": {
   "display_name": "Python 3",
   "language": "python",
   "name": "python3"
  },
  "language_info": {
   "codemirror_mode": {
    "name": "ipython",
    "version": 3
   },
   "file_extension": ".py",
   "mimetype": "text/x-python",
   "name": "python",
   "nbconvert_exporter": "python",
   "pygments_lexer": "ipython3",
   "version": "3.8.8"
  }
 },
 "nbformat": 4,
 "nbformat_minor": 5
}
