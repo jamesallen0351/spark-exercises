{
 "cells": [
  {
   "cell_type": "markdown",
   "id": "225daa0b",
   "metadata": {},
   "source": [
    "# Explore\n",
    "\n",
    "### Answer the questions below by using a combination of the techniques discussed in the lesson that you think is appropriate.\n",
    "\n",
    "1. How many different cases are there, by department?\n",
    "\n",
    "2. Does the percentage of cases that are late vary by department?\n",
    "\n",
    "3. On average, how late are the late cases by department?\n",
    "\n",
    "4. What is the service type that is the most late? Just for Parks & Rec?\n",
    "\n",
    "5. For the DSD/Code Enforcement department, what are the most common service request types? Look at other departments too.\n",
    "\n",
    "6. Does whether or not its a weekend matter for when a case is opened/closed?\n",
    "\n",
    "7. On average, how many cases are opened a day for the Customer Service department?\n",
    "\n",
    "8. Does the number of service requests for the solid waste department vary by day of the week?"
   ]
  },
  {
   "cell_type": "code",
   "execution_count": 5,
   "id": "03f8a549",
   "metadata": {},
   "outputs": [],
   "source": [
    "# imports\n",
    "\n",
    "import pyspark.sql\n",
    "from pyspark.sql.functions import *\n",
    "\n",
    "import numpy as np\n",
    "import pandas as pd\n",
    "\n",
    "import matplotlib.pyplot as plt\n",
    "import seaborn as sns\n",
    "\n",
    "from wrangle import wrangle_311\n",
    "\n",
    "import warnings \n",
    "warnings.filterwarnings(\"ignore\")"
   ]
  },
  {
   "cell_type": "code",
   "execution_count": 6,
   "id": "4db99d17",
   "metadata": {},
   "outputs": [],
   "source": [
    "# creating a sparlk\n",
    "spark = pyspark.sql.SparkSession.builder.getOrCreate()"
   ]
  },
  {
   "cell_type": "code",
   "execution_count": 7,
   "id": "eaeaa944",
   "metadata": {},
   "outputs": [
    {
     "name": "stdout",
     "output_type": "stream",
     "text": [
      "[wrangle.py] reading case.csv\n",
      "[wrangle.py] handling data types\n",
      "[wrangle.py] parsing dates\n",
      "[wrangle.py] adding features\n",
      "[wrangle.py] joining departments\n"
     ]
    }
   ],
   "source": [
    "# using the wrangle_311 function from the wrangle.py file\n",
    "df = wrangle_311(spark)"
   ]
  },
  {
   "cell_type": "code",
   "execution_count": null,
   "id": "02bc7e14",
   "metadata": {},
   "outputs": [],
   "source": []
  }
 ],
 "metadata": {
  "kernelspec": {
   "display_name": "Python 3",
   "language": "python",
   "name": "python3"
  },
  "language_info": {
   "codemirror_mode": {
    "name": "ipython",
    "version": 3
   },
   "file_extension": ".py",
   "mimetype": "text/x-python",
   "name": "python",
   "nbconvert_exporter": "python",
   "pygments_lexer": "ipython3",
   "version": "3.8.8"
  }
 },
 "nbformat": 4,
 "nbformat_minor": 5
}
