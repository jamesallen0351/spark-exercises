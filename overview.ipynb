{
 "cells": [
  {
   "cell_type": "markdown",
   "id": "f90d26d6-9075-4b73-87f5-ec7a366ae246",
   "metadata": {},
   "source": [
    "# Spark Overview"
   ]
  },
  {
   "cell_type": "markdown",
   "id": "95bcc49d-0702-4f9e-b0b7-ff8f9ff92148",
   "metadata": {},
   "source": [
    "## Who, what, when, where, why, how?\n",
    "\n",
    "- platform for dealing with big data\n",
    "- 4vs of big data"
   ]
  },
  {
   "cell_type": "markdown",
   "id": "312a9626-bf6f-488d-bfcb-c06cc7a145b0",
   "metadata": {},
   "source": [
    "## Spark Architecture\n",
    "\n",
    "- Scala on the JVM\n",
    "- Client Libraries\n",
    "- Drivers, Executors, Clusters, Cluster Managers\n",
    "- Local Mode"
   ]
  },
  {
   "cell_type": "markdown",
   "id": "c8f0d89b-77ba-48e2-b559-d25aa4b8da83",
   "metadata": {},
   "source": [
    "## Parallel Work\n",
    "\n",
    "- Tradeoffs and advantages\n",
    "- 2 levels: executors and partitions\n",
    "\n",
    "### Spark Dataframes\n",
    "\n",
    "- lazy\n",
    "- SQL\n",
    "- transformations and actions"
   ]
  },
  {
   "cell_type": "markdown",
   "id": "9556cc7f-3892-4d32-9708-030d95f44e59",
   "metadata": {},
   "source": [
    "## Lessons Covered\n",
    "\n",
    "1. Overview\n",
    "2. Env Setup\n",
    "3. Spark API\n",
    "4. Data Wrangling\n",
    "5. Data Exploration"
   ]
  }
 ],
 "metadata": {
  "kernelspec": {
   "display_name": "Python 3",
   "language": "python",
   "name": "python3"
  },
  "language_info": {
   "codemirror_mode": {
    "name": "ipython",
    "version": 3
   },
   "file_extension": ".py",
   "mimetype": "text/x-python",
   "name": "python",
   "nbconvert_exporter": "python",
   "pygments_lexer": "ipython3",
   "version": "3.8.5"
  }
 },
 "nbformat": 4,
 "nbformat_minor": 5
}
