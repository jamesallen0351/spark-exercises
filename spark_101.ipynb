{
 "cells": [
  {
   "cell_type": "markdown",
   "id": "ef3df910",
   "metadata": {},
   "source": [
    "# Spark 101\n",
    "\n",
    "### 1. Create a spark data frame that contains your favorite programming languages.\n",
    " - The name of the column should be language\n",
    "\n",
    " - View the schema of the dataframe\n",
    "\n",
    " - Output the shape of the dataframe\n",
    "\n",
    " - Show the first 5 records in the dataframe\n",
    "\n",
    "\n",
    "### 2. Load the mpg dataset as a spark dataframe.\n",
    "\n",
    " - Create 1 column of output that contains a message like the one below:\n",
    "     \n",
    "     - The 1999 audi a4 has a 4 cylinder engine\n",
    " \n",
    " \n",
    " - Transform the trans column so that it only contains either manual or auto\n",
    " \n",
    "\n",
    "### 3. Load the tips dataset as a spark dataframe\n",
    "\n",
    "   - What percentage of observations are smokers?\n",
    "    \n",
    "   - Create a column that contains the tip percentage\n",
    "    \n",
    "   - Calculate the average tip percentage for each combination of sex and smoker.\n",
    "    \n",
    "\n",
    "### 4. Use the seattle weather dataset referenced in the lesson to answer the questions below.\n",
    "\n",
    "   - Convert the temperatures to fahrenheit.\n",
    "    \n",
    "   - Which month has the most rain, on average?\n",
    "    \n",
    "   - Which year was the windiest?\n",
    "    \n",
    "   - What is the most frequent type of weather in January?\n",
    "    \n",
    "   - What is the average high and low temperature on sunny days in July in 2013 and 2014?\n",
    "    \n",
    "   - What percentage of days were rainy in q3 of 2015?\n",
    "    \n",
    "   - For each year, find what percentage of days it rained (had non-zero precipitation)"
   ]
  },
  {
   "cell_type": "code",
   "execution_count": 5,
   "id": "39479acd",
   "metadata": {},
   "outputs": [],
   "source": [
    "# imports\n",
    "import pandas as pd\n",
    "import numpy as np\n",
    "\n",
    "import pyspark\n",
    "import pyspark.sql.functions as F\n",
    "\n",
    "import multiprocessing\n",
    "\n",
    "from pyspark.sql.functions import min, max, mean, lit, concat\n",
    "from pyspark.sql.functions import when"
   ]
  },
  {
   "cell_type": "code",
   "execution_count": 6,
   "id": "b901a2ce",
   "metadata": {},
   "outputs": [],
   "source": [
    "spark = pyspark.sql.SparkSession.builder.getOrCreate()"
   ]
  },
  {
   "cell_type": "code",
   "execution_count": 7,
   "id": "4861ba5e",
   "metadata": {},
   "outputs": [],
   "source": [
    "# Create a spark data frame that contains your favorite programming languages\n",
    "df = ['SQL', 'Python', 'Pandas', 'HTML', 'NLP', 'Spark']"
   ]
  },
  {
   "cell_type": "code",
   "execution_count": 8,
   "id": "cc776754",
   "metadata": {},
   "outputs": [],
   "source": [
    "# The name of the column should be language\n",
    "panda_df = pd.DataFrame({'language': df})"
   ]
  },
  {
   "cell_type": "code",
   "execution_count": 9,
   "id": "2f972337",
   "metadata": {},
   "outputs": [],
   "source": [
    "# convert pandas df to spark df\n",
    "df = spark.createDataFrame(panda_df)"
   ]
  },
  {
   "cell_type": "code",
   "execution_count": 12,
   "id": "254e89e3",
   "metadata": {},
   "outputs": [
    {
     "name": "stdout",
     "output_type": "stream",
     "text": [
      "+--------+\n",
      "|language|\n",
      "+--------+\n",
      "|     SQL|\n",
      "|  Python|\n",
      "|  Pandas|\n",
      "|    HTML|\n",
      "|     NLP|\n",
      "+--------+\n",
      "only showing top 5 rows\n",
      "\n"
     ]
    }
   ],
   "source": [
    "# Show the first 5 records in the dataframe\n",
    "df.show(5)"
   ]
  },
  {
   "cell_type": "code",
   "execution_count": 11,
   "id": "c7b1a8b8",
   "metadata": {},
   "outputs": [
    {
     "name": "stdout",
     "output_type": "stream",
     "text": [
      "root\n",
      " |-- language: string (nullable = true)\n",
      "\n"
     ]
    }
   ],
   "source": [
    "# View the schema of the dataframe\n",
    "df.printSchema()"
   ]
  },
  {
   "cell_type": "code",
   "execution_count": null,
   "id": "857b3ff5",
   "metadata": {},
   "outputs": [],
   "source": []
  }
 ],
 "metadata": {
  "kernelspec": {
   "display_name": "Python 3",
   "language": "python",
   "name": "python3"
  },
  "language_info": {
   "codemirror_mode": {
    "name": "ipython",
    "version": 3
   },
   "file_extension": ".py",
   "mimetype": "text/x-python",
   "name": "python",
   "nbconvert_exporter": "python",
   "pygments_lexer": "ipython3",
   "version": "3.8.8"
  }
 },
 "nbformat": 4,
 "nbformat_minor": 5
}
