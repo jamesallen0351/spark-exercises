{
 "cells": [
  {
   "cell_type": "markdown",
   "id": "ef3df910",
   "metadata": {},
   "source": [
    "# Spark 101\n",
    "\n",
    "### 1. Create a spark data frame that contains your favorite programming languages.\n",
    " - The name of the column should be language\n",
    "\n",
    " - View the schema of the dataframe\n",
    "\n",
    " - Output the shape of the dataframe\n",
    "\n",
    " - Show the first 5 records in the dataframe\n",
    "\n",
    "\n",
    "### 2. Load the mpg dataset as a spark dataframe.\n",
    "\n",
    " - Create 1 column of output that contains a message like the one below:\n",
    "     \n",
    "     - The 1999 audi a4 has a 4 cylinder engine\n",
    " \n",
    " \n",
    " - Transform the trans column so that it only contains either manual or auto\n",
    " \n",
    "\n",
    "### 3. Load the tips dataset as a spark dataframe\n",
    "\n",
    "   - What percentage of observations are smokers?\n",
    "    \n",
    "   - Create a column that contains the tip percentage\n",
    "    \n",
    "   - Calculate the average tip percentage for each combination of sex and smoker.\n",
    "    \n",
    "\n",
    "### 4. Use the seattle weather dataset referenced in the lesson to answer the questions below.\n",
    "\n",
    "   - Convert the temperatures to fahrenheit.\n",
    "    \n",
    "   - Which month has the most rain, on average?\n",
    "    \n",
    "   - Which year was the windiest?\n",
    "    \n",
    "   - What is the most frequent type of weather in January?\n",
    "    \n",
    "   - What is the average high and low temperature on sunny days in July in 2013 and 2014?\n",
    "    \n",
    "   - What percentage of days were rainy in q3 of 2015?\n",
    "    \n",
    "   - For each year, find what percentage of days it rained (had non-zero precipitation)"
   ]
  },
  {
   "cell_type": "code",
   "execution_count": 1,
   "id": "39479acd",
   "metadata": {},
   "outputs": [],
   "source": [
    "# imports\n",
    "import pandas as pd\n",
    "import numpy as np\n",
    "\n",
    "import pyspark\n",
    "import pyspark.sql.functions as F\n",
    "\n",
    "import multiprocessing\n",
    "\n",
    "from pyspark.sql.functions import min, max, mean, lit, concat\n",
    "from pyspark.sql.functions import when"
   ]
  },
  {
   "cell_type": "code",
   "execution_count": 2,
   "id": "b901a2ce",
   "metadata": {},
   "outputs": [],
   "source": [
    "spark = pyspark.sql.SparkSession.builder.getOrCreate()"
   ]
  },
  {
   "cell_type": "code",
   "execution_count": 3,
   "id": "4861ba5e",
   "metadata": {},
   "outputs": [],
   "source": [
    "# Create a spark data frame that contains your favorite programming languages\n",
    "df = ['SQL', 'Python', 'Pandas', 'HTML', 'NLP', 'Spark']"
   ]
  },
  {
   "cell_type": "code",
   "execution_count": 4,
   "id": "cc776754",
   "metadata": {},
   "outputs": [],
   "source": [
    "# The name of the column should be language\n",
    "panda_df = pd.DataFrame({'language': df})"
   ]
  },
  {
   "cell_type": "code",
   "execution_count": 5,
   "id": "2f972337",
   "metadata": {},
   "outputs": [],
   "source": [
    "# convert pandas df to spark df\n",
    "df = spark.createDataFrame(panda_df)"
   ]
  },
  {
   "cell_type": "code",
   "execution_count": 6,
   "id": "254e89e3",
   "metadata": {},
   "outputs": [
    {
     "name": "stdout",
     "output_type": "stream",
     "text": [
      "+--------+\n",
      "|language|\n",
      "+--------+\n",
      "|     SQL|\n",
      "|  Python|\n",
      "|  Pandas|\n",
      "|    HTML|\n",
      "|     NLP|\n",
      "+--------+\n",
      "only showing top 5 rows\n",
      "\n"
     ]
    }
   ],
   "source": [
    "# Show the first 5 records in the dataframe\n",
    "df.show(5)"
   ]
  },
  {
   "cell_type": "code",
   "execution_count": 7,
   "id": "c7b1a8b8",
   "metadata": {},
   "outputs": [
    {
     "name": "stdout",
     "output_type": "stream",
     "text": [
      "root\n",
      " |-- language: string (nullable = true)\n",
      "\n"
     ]
    }
   ],
   "source": [
    "# View the schema of the dataframe\n",
    "df.printSchema()"
   ]
  },
  {
   "cell_type": "markdown",
   "id": "a337b834",
   "metadata": {},
   "source": [
    "# Load the mpg dataset as a spark dataframe"
   ]
  },
  {
   "cell_type": "code",
   "execution_count": 8,
   "id": "7261a05e",
   "metadata": {},
   "outputs": [],
   "source": [
    "# imports\n",
    "from pydataset import data"
   ]
  },
  {
   "cell_type": "code",
   "execution_count": 9,
   "id": "27fc66f9",
   "metadata": {},
   "outputs": [],
   "source": [
    "# getting the mpg data\n",
    "mpg = spark.createDataFrame(data('mpg'))"
   ]
  },
  {
   "cell_type": "code",
   "execution_count": 10,
   "id": "3b3c27d0",
   "metadata": {},
   "outputs": [
    {
     "name": "stdout",
     "output_type": "stream",
     "text": [
      "+------------+------------------+-----+----+---+----------+---+---+---+---+-------+\n",
      "|manufacturer|             model|displ|year|cyl|     trans|drv|cty|hwy| fl|  class|\n",
      "+------------+------------------+-----+----+---+----------+---+---+---+---+-------+\n",
      "|        audi|                a4|  1.8|1999|  4|  auto(l5)|  f| 18| 29|  p|compact|\n",
      "|        audi|                a4|  1.8|1999|  4|manual(m5)|  f| 21| 29|  p|compact|\n",
      "|        audi|                a4|  2.0|2008|  4|manual(m6)|  f| 20| 31|  p|compact|\n",
      "|        audi|                a4|  2.0|2008|  4|  auto(av)|  f| 21| 30|  p|compact|\n",
      "|        audi|                a4|  2.8|1999|  6|  auto(l5)|  f| 16| 26|  p|compact|\n",
      "|        audi|                a4|  2.8|1999|  6|manual(m5)|  f| 18| 26|  p|compact|\n",
      "|        audi|                a4|  3.1|2008|  6|  auto(av)|  f| 18| 27|  p|compact|\n",
      "|        audi|        a4 quattro|  1.8|1999|  4|manual(m5)|  4| 18| 26|  p|compact|\n",
      "|        audi|        a4 quattro|  1.8|1999|  4|  auto(l5)|  4| 16| 25|  p|compact|\n",
      "|        audi|        a4 quattro|  2.0|2008|  4|manual(m6)|  4| 20| 28|  p|compact|\n",
      "|        audi|        a4 quattro|  2.0|2008|  4|  auto(s6)|  4| 19| 27|  p|compact|\n",
      "|        audi|        a4 quattro|  2.8|1999|  6|  auto(l5)|  4| 15| 25|  p|compact|\n",
      "|        audi|        a4 quattro|  2.8|1999|  6|manual(m5)|  4| 17| 25|  p|compact|\n",
      "|        audi|        a4 quattro|  3.1|2008|  6|  auto(s6)|  4| 17| 25|  p|compact|\n",
      "|        audi|        a4 quattro|  3.1|2008|  6|manual(m6)|  4| 15| 25|  p|compact|\n",
      "|        audi|        a6 quattro|  2.8|1999|  6|  auto(l5)|  4| 15| 24|  p|midsize|\n",
      "|        audi|        a6 quattro|  3.1|2008|  6|  auto(s6)|  4| 17| 25|  p|midsize|\n",
      "|        audi|        a6 quattro|  4.2|2008|  8|  auto(s6)|  4| 16| 23|  p|midsize|\n",
      "|   chevrolet|c1500 suburban 2wd|  5.3|2008|  8|  auto(l4)|  r| 14| 20|  r|    suv|\n",
      "|   chevrolet|c1500 suburban 2wd|  5.3|2008|  8|  auto(l4)|  r| 11| 15|  e|    suv|\n",
      "+------------+------------------+-----+----+---+----------+---+---+---+---+-------+\n",
      "only showing top 20 rows\n",
      "\n"
     ]
    }
   ],
   "source": [
    "# showing the mpg data\n",
    "mpg.show()"
   ]
  },
  {
   "cell_type": "code",
   "execution_count": 11,
   "id": "bedb60cd",
   "metadata": {},
   "outputs": [
    {
     "name": "stdout",
     "output_type": "stream",
     "text": [
      "+------------------------------------------------------------+\n",
      "|string                                                      |\n",
      "+------------------------------------------------------------+\n",
      "|The 1999 audi a4 has a4cylinder engine.                     |\n",
      "|The 1999 audi a4 has a4cylinder engine.                     |\n",
      "|The 2008 audi a4 has a4cylinder engine.                     |\n",
      "|The 2008 audi a4 has a4cylinder engine.                     |\n",
      "|The 1999 audi a4 has a6cylinder engine.                     |\n",
      "|The 1999 audi a4 has a6cylinder engine.                     |\n",
      "|The 2008 audi a4 has a6cylinder engine.                     |\n",
      "|The 1999 audi a4 quattro has a4cylinder engine.             |\n",
      "|The 1999 audi a4 quattro has a4cylinder engine.             |\n",
      "|The 2008 audi a4 quattro has a4cylinder engine.             |\n",
      "|The 2008 audi a4 quattro has a4cylinder engine.             |\n",
      "|The 1999 audi a4 quattro has a6cylinder engine.             |\n",
      "|The 1999 audi a4 quattro has a6cylinder engine.             |\n",
      "|The 2008 audi a4 quattro has a6cylinder engine.             |\n",
      "|The 2008 audi a4 quattro has a6cylinder engine.             |\n",
      "|The 1999 audi a6 quattro has a6cylinder engine.             |\n",
      "|The 2008 audi a6 quattro has a6cylinder engine.             |\n",
      "|The 2008 audi a6 quattro has a8cylinder engine.             |\n",
      "|The 2008 chevrolet c1500 suburban 2wd has a8cylinder engine.|\n",
      "|The 2008 chevrolet c1500 suburban 2wd has a8cylinder engine.|\n",
      "+------------------------------------------------------------+\n",
      "only showing top 20 rows\n",
      "\n"
     ]
    }
   ],
   "source": [
    "# Create 1 column of output that contains a message like the one below:\n",
    "# The 1999 audi a4 has a 4 cylinder engine\n",
    "mpg.select(concat(lit('The '), mpg.year, lit(' '), mpg.manufacturer, lit(' '), mpg.model, lit(' has a'), mpg.cyl, lit('cylinder engine.')).alias('string')).show(truncate=False)"
   ]
  },
  {
   "cell_type": "code",
   "execution_count": 12,
   "id": "bbfbaa94",
   "metadata": {},
   "outputs": [
    {
     "name": "stdout",
     "output_type": "stream",
     "text": [
      "+----------+------+\n",
      "|     trans| trans|\n",
      "+----------+------+\n",
      "|  auto(l5)|  auto|\n",
      "|manual(m5)|manual|\n",
      "|manual(m6)|manual|\n",
      "|  auto(av)|  auto|\n",
      "|  auto(l5)|  auto|\n",
      "|manual(m5)|manual|\n",
      "|  auto(av)|  auto|\n",
      "|manual(m5)|manual|\n",
      "|  auto(l5)|  auto|\n",
      "|manual(m6)|manual|\n",
      "|  auto(s6)|  auto|\n",
      "|  auto(l5)|  auto|\n",
      "|manual(m5)|manual|\n",
      "|  auto(s6)|  auto|\n",
      "|manual(m6)|manual|\n",
      "|  auto(l5)|  auto|\n",
      "|  auto(s6)|  auto|\n",
      "|  auto(s6)|  auto|\n",
      "|  auto(l4)|  auto|\n",
      "|  auto(l4)|  auto|\n",
      "+----------+------+\n",
      "only showing top 20 rows\n",
      "\n"
     ]
    }
   ],
   "source": [
    "# Transform the trans column so that it only contains either manual or auto\n",
    "mpg.select(mpg.trans,\n",
    "          when((mpg.trans.contains('auto')), 'auto')\n",
    "          .otherwise('manual')\n",
    "          .alias('trans')).show(20)"
   ]
  },
  {
   "cell_type": "code",
   "execution_count": 13,
   "id": "b1cbb74f",
   "metadata": {},
   "outputs": [],
   "source": [
    "# load the tips dataset as a spark dataframe\n",
    "tips = spark.createDataFrame(data('tips'))"
   ]
  },
  {
   "cell_type": "code",
   "execution_count": 14,
   "id": "09064901",
   "metadata": {},
   "outputs": [
    {
     "name": "stdout",
     "output_type": "stream",
     "text": [
      "+----------+----+------+------+---+------+----+\n",
      "|total_bill| tip|   sex|smoker|day|  time|size|\n",
      "+----------+----+------+------+---+------+----+\n",
      "|     16.99|1.01|Female|    No|Sun|Dinner|   2|\n",
      "|     10.34|1.66|  Male|    No|Sun|Dinner|   3|\n",
      "|     21.01| 3.5|  Male|    No|Sun|Dinner|   3|\n",
      "|     23.68|3.31|  Male|    No|Sun|Dinner|   2|\n",
      "|     24.59|3.61|Female|    No|Sun|Dinner|   4|\n",
      "|     25.29|4.71|  Male|    No|Sun|Dinner|   4|\n",
      "|      8.77| 2.0|  Male|    No|Sun|Dinner|   2|\n",
      "|     26.88|3.12|  Male|    No|Sun|Dinner|   4|\n",
      "|     15.04|1.96|  Male|    No|Sun|Dinner|   2|\n",
      "|     14.78|3.23|  Male|    No|Sun|Dinner|   2|\n",
      "+----------+----+------+------+---+------+----+\n",
      "only showing top 10 rows\n",
      "\n"
     ]
    }
   ],
   "source": [
    "tips.show(10)"
   ]
  },
  {
   "cell_type": "code",
   "execution_count": 15,
   "id": "655f7b6f",
   "metadata": {},
   "outputs": [
    {
     "name": "stdout",
     "output_type": "stream",
     "text": [
      "38.114754098360656 percent of observations are smokers.\n"
     ]
    }
   ],
   "source": [
    "# What percentage of observations are smokers?\n",
    "print((tips.filter(tips.smoker == 'Yes').count() / tips.count() * 100), 'percent of observations are smokers.')"
   ]
  },
  {
   "cell_type": "code",
   "execution_count": 16,
   "id": "e784f4cd",
   "metadata": {},
   "outputs": [],
   "source": [
    "# Create a column that contains the tip percentage\n",
    "\n",
    "tips = tips.select(\n",
    "        tips.total_bill, tips.tip, tips.sex, tips.smoker, tips.day, tips.time, tips.size,\n",
    "        (tips.total_bill / tips.tip).alias('tip_percent')\n",
    ")"
   ]
  },
  {
   "cell_type": "code",
   "execution_count": 17,
   "id": "2682ec8c",
   "metadata": {},
   "outputs": [
    {
     "name": "stdout",
     "output_type": "stream",
     "text": [
      "+----------+----+------+------+---+------+----+------------------+\n",
      "|total_bill| tip|   sex|smoker|day|  time|size|       tip_percent|\n",
      "+----------+----+------+------+---+------+----+------------------+\n",
      "|     16.99|1.01|Female|    No|Sun|Dinner|   2| 16.82178217821782|\n",
      "|     10.34|1.66|  Male|    No|Sun|Dinner|   3| 6.228915662650603|\n",
      "|     21.01| 3.5|  Male|    No|Sun|Dinner|   3| 6.002857142857144|\n",
      "|     23.68|3.31|  Male|    No|Sun|Dinner|   2|7.1540785498489425|\n",
      "|     24.59|3.61|Female|    No|Sun|Dinner|   4| 6.811634349030471|\n",
      "|     25.29|4.71|  Male|    No|Sun|Dinner|   4| 5.369426751592356|\n",
      "|      8.77| 2.0|  Male|    No|Sun|Dinner|   2|             4.385|\n",
      "|     26.88|3.12|  Male|    No|Sun|Dinner|   4| 8.615384615384615|\n",
      "|     15.04|1.96|  Male|    No|Sun|Dinner|   2| 7.673469387755102|\n",
      "|     14.78|3.23|  Male|    No|Sun|Dinner|   2| 4.575851393188854|\n",
      "+----------+----+------+------+---+------+----+------------------+\n",
      "only showing top 10 rows\n",
      "\n"
     ]
    }
   ],
   "source": [
    "tips.show(10)"
   ]
  },
  {
   "cell_type": "code",
   "execution_count": null,
   "id": "8506a807",
   "metadata": {},
   "outputs": [],
   "source": []
  }
 ],
 "metadata": {
  "kernelspec": {
   "display_name": "Python 3",
   "language": "python",
   "name": "python3"
  },
  "language_info": {
   "codemirror_mode": {
    "name": "ipython",
    "version": 3
   },
   "file_extension": ".py",
   "mimetype": "text/x-python",
   "name": "python",
   "nbconvert_exporter": "python",
   "pygments_lexer": "ipython3",
   "version": "3.8.8"
  }
 },
 "nbformat": 4,
 "nbformat_minor": 5
}
